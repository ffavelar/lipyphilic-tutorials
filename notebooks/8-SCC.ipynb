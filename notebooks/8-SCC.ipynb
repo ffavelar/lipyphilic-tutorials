{
 "cells": [
  {
   "cell_type": "markdown",
   "id": "a2229eba",
   "metadata": {},
   "source": [
    "# Coarse-grained order parameter\n",
    "\n",
    "We will calculate the coarse-grained order parameter of phospholipids in a ternary mixture of DPPC, DOPC, and Cholesterol simulated by [Smith et al.](https://www.biorxiv.org/content/10.1101/2021.05.24.445501v3).\n",
    "\n",
    "We will use the class `liyphilic.lib.order_parameter.SCC` to calculate the coarse-grained order parameter, as defined in [Seo et al. (2020)](https://pubs.acs.org/doi/full/10.1021/acs.jpclett.0c01317). We will then project the $S_{CC}$ onto the membrane plane, creating a two-dimensional heatmap coloured by the $S_{CC}$ value.\n",
    "\n",
    "The coarse-grained order parameter, $S_{CC}$, is defined as:\n",
    "$$\n",
    "S_{CC} = \\displaystyle \\frac{\\big \\langle 3 \\cos^2 \\theta - 1 \\big \\rangle}{2}\n",
    "$$\n",
    "\n",
    "where $\\theta$ is the angle between the membrane normal and the vector connecting two consecutive tail beads. Angular brackets denote averages over all beads in an acyl tail.\n",
    "\n",
    "The $S_{CC}$ range from -0.5 to 1. **Values nearer zero indicate more disordered tails.**\n",
    "\n",
    "Note\n",
    "---- \n",
    "\n",
    "See [Piggot et al. (2017)](https://pubs.acs.org/doi/full/10.1021/acs.jctc.7b00643) for an excellent discussion on calculating acyl tali order parameters in molecular dynamics simulations.\n"
   ]
  },
  {
   "cell_type": "code",
   "execution_count": 1,
   "id": "481dbff7",
   "metadata": {},
   "outputs": [],
   "source": [
    "import pickle\n",
    "\n",
    "import numpy as np\n",
    "import matplotlib.pyplot as plt\n",
    "\n",
    "import MDAnalysis as mda\n",
    "from lipyphilic.lib.order_parameter import SCC\n"
   ]
  },
  {
   "cell_type": "markdown",
   "id": "c8f21ec7",
   "metadata": {},
   "source": [
    "## Load the topology and trajectory using MDAnalysis"
   ]
  },
  {
   "cell_type": "code",
   "execution_count": 2,
   "id": "e9ee9659",
   "metadata": {},
   "outputs": [],
   "source": [
    "u = mda.Universe(\"../datafiles/dppc-dopc-chol.tpr\", \"../datafiles/dppc-dopc-chol.xtc\")"
   ]
  },
  {
   "cell_type": "markdown",
   "id": "a202ea3d",
   "metadata": {},
   "source": [
    "## Calculate $S_{CC}$ of sn-1 tails\n",
    "\n",
    "To calculate the order parameter, we need to pass our universe to `SCC` along with an atom seletion defining the atoms to use in the calculation:\n"
   ]
  },
  {
   "cell_type": "code",
   "execution_count": 3,
   "id": "bbbaa70e",
   "metadata": {},
   "outputs": [],
   "source": [
    "scc_sn1 = SCC(\n",
    "    universe = u, \n",
    "    tail_sel = \"name ??A\"\n",
    ")\n"
   ]
  },
  {
   "cell_type": "markdown",
   "id": "e54fe5ed",
   "metadata": {},
   "source": [
    "Our `tail_sel` makes use of the powerful selection language of MDAnalysis. '??A' will select any atom that starts with any two characters and ends with 'A'. In the MARTINI force field, this corresponds to the $sn-1$ tails of lipids.\n",
    "\n",
    "In our case, this selection will select the following beads: 'C1A', 'C2A', 'D2A', 'C3A', and 'C4A'.\n",
    "\n",
    "We then select which frames of the trajectory to analyse (`None` will use every frame) and choose to display a progress bar (`verbose=True`)::\n"
   ]
  },
  {
   "cell_type": "code",
   "execution_count": 4,
   "id": "4b885a70",
   "metadata": {},
   "outputs": [
    {
     "data": {
      "application/vnd.jupyter.widget-view+json": {
       "model_id": "68d055a0a2cb4a3ca37989cd7b26f79b",
       "version_major": 2,
       "version_minor": 0
      },
      "text/plain": [
       "  0%|          | 0/51 [00:00<?, ?it/s]"
      ]
     },
     "metadata": {},
     "output_type": "display_data"
    },
    {
     "data": {
      "text/plain": [
       "<lipyphilic.lib.order_parameter.SCC at 0x7fcbedce0160>"
      ]
     },
     "execution_count": 4,
     "metadata": {},
     "output_type": "execute_result"
    }
   ],
   "source": [
    "scc_sn1.run(start=None, stop=None, step=None, verbose=True)\n"
   ]
  },
  {
   "cell_type": "markdown",
   "id": "9de1acce",
   "metadata": {},
   "source": [
    "Warning\n",
    "-------\n",
    "\n",
    "`tail_sel` should select beads in **either** the *sn1* **or** *sn2* tails, not both tails.\n"
   ]
  },
  {
   "cell_type": "markdown",
   "id": "17a21cf6",
   "metadata": {},
   "source": [
    "## Accessing the results"
   ]
  },
  {
   "cell_type": "markdown",
   "id": "3642d692",
   "metadata": {},
   "source": [
    "The results are then available in the `scc_sn1.SCC` attribute as a `numpy.ndarray`. The array has the shape ($N_{\\rm lipids}$, $N_{\\rm frames}$). Each row\n",
    "corresponds to an individual lipid and each column to an individual frame.\n"
   ]
  },
  {
   "cell_type": "code",
   "execution_count": 5,
   "id": "8ebcb6fd",
   "metadata": {},
   "outputs": [
    {
     "data": {
      "text/plain": [
       "(8000, 51)"
      ]
     },
     "execution_count": 5,
     "metadata": {},
     "output_type": "execute_result"
    }
   ],
   "source": [
    "# There are 8000 phospholipids in our membrane, and 51 frames in our trajectory\n",
    "scc_sn1.SCC.shape"
   ]
  },
  {
   "cell_type": "markdown",
   "id": "b5f9561b",
   "metadata": {},
   "source": [
    "## Calculate $S_{CC}$ of sn-2 tails\n",
    "\n",
    "Likewise, to calculate the $S_{CC}$ of the *sn2* tails, we can do:\n",
    "\n"
   ]
  },
  {
   "cell_type": "code",
   "execution_count": 6,
   "id": "0963403c",
   "metadata": {},
   "outputs": [],
   "source": [
    "scc_sn2 = SCC(\n",
    "    universe = u, \n",
    "    tail_sel = \"name ??B\"\n",
    ")\n"
   ]
  },
  {
   "cell_type": "markdown",
   "id": "5815fb63",
   "metadata": {},
   "source": [
    "In this caase, '??B' will select 'C1B', 'C2B', 'D2B', 'C3B', and 'C4B'.\n",
    "\n",
    "Again, we then select which frames of the trajectory to analyse (`None` will use every frame) and choose to display a progress bar (`verbose=True`)::\n"
   ]
  },
  {
   "cell_type": "code",
   "execution_count": 7,
   "id": "e2d41ea5",
   "metadata": {},
   "outputs": [
    {
     "data": {
      "application/vnd.jupyter.widget-view+json": {
       "model_id": "94fa96ca91554f2e90cc29f2b54ebb7c",
       "version_major": 2,
       "version_minor": 0
      },
      "text/plain": [
       "  0%|          | 0/51 [00:00<?, ?it/s]"
      ]
     },
     "metadata": {},
     "output_type": "display_data"
    },
    {
     "data": {
      "text/plain": [
       "<lipyphilic.lib.order_parameter.SCC at 0x7fcbf59bba90>"
      ]
     },
     "execution_count": 7,
     "metadata": {},
     "output_type": "execute_result"
    }
   ],
   "source": [
    "scc_sn2.run(start=None, stop=None, step=None, verbose=True)\n"
   ]
  },
  {
   "cell_type": "markdown",
   "id": "91e9cea7",
   "metadata": {},
   "source": [
    "## Calculate a weighted average $S_{CC}$ over the two tails\n",
    "\n",
    "To calculate a weighted-average $S_{CC}$ we can do use the `weighted_average` method of `SCC`:"
   ]
  },
  {
   "cell_type": "code",
   "execution_count": 8,
   "id": "a182f9a1",
   "metadata": {},
   "outputs": [],
   "source": [
    "scc = SCC.weighted_average(scc_sn1, scc_sn2)"
   ]
  },
  {
   "cell_type": "markdown",
   "id": "123b07b5",
   "metadata": {},
   "source": [
    "This function takes into account the number of beads in each tail and return a new `SCC`object whose `SCC` attribute contains the weighted-average $S_{CC}$ for each lipid at each frame."
   ]
  },
  {
   "cell_type": "markdown",
   "id": "4331e160",
   "metadata": {},
   "source": [
    "# Project the $S_{CC}$ values onto the membrane plane\n"
   ]
  },
  {
   "cell_type": "markdown",
   "id": "6911b6c6",
   "metadata": {},
   "source": [
    "## Load the leaflet information\n",
    "\n",
    "\n",
    "We want to project the $S_{CC}$ values of lipids in the upper leaflet onto the membrane plane. For this, we first need to know which leaflet each lipid is in at each frame. We will use the results from the notebook on [assigning lipids to leaflets](2-AssignLeaflets.ipynb).\n"
   ]
  },
  {
   "cell_type": "code",
   "execution_count": 9,
   "id": "ab844cd9",
   "metadata": {},
   "outputs": [],
   "source": [
    "with open(\"../results/leaflets/leaflets-dppc-dopc-chol.pkl\", 'rb') as f:\n",
    "    leaflets = pickle.load(f)\n",
    "    "
   ]
  },
  {
   "cell_type": "markdown",
   "id": "65addf3d",
   "metadata": {},
   "source": [
    "`leaflets` contains the leaflet membership of every lipid at each frame, including cholesterol.\n",
    "\n",
    "Values of:\n",
    "- -1 indicate the lipid is in the lower leaflet\n",
    "- 1 indicate the lipid is in the upper leaflet\n",
    "\n",
    "We will make use to the `filter_leaflets` method to obtain the leaflet membership of the phospholipids only:\n",
    "\n"
   ]
  },
  {
   "cell_type": "code",
   "execution_count": 10,
   "id": "ffb96ca6",
   "metadata": {},
   "outputs": [],
   "source": [
    "phospholipid_leaflets = leaflets.filter_leaflets(\n",
    "    lipid_sel=\"resname DPPC DOPC\"\n",
    ")\n"
   ]
  },
  {
   "cell_type": "markdown",
   "id": "e7159a69",
   "metadata": {},
   "source": [
    "We will now create a boolean mask based on leaflet membership that can be used to select lipids in the upper leaflet only:"
   ]
  },
  {
   "cell_type": "code",
   "execution_count": 11,
   "id": "909af1ac",
   "metadata": {},
   "outputs": [],
   "source": [
    "leaflet_mask = (phospholipid_leaflets == 1)"
   ]
  },
  {
   "cell_type": "code",
   "execution_count": 12,
   "id": "32d44cd8",
   "metadata": {},
   "outputs": [
    {
     "data": {
      "text/plain": [
       "array([[ True,  True,  True, ...,  True,  True,  True],\n",
       "       [ True,  True,  True, ...,  True,  True,  True],\n",
       "       [ True,  True,  True, ...,  True,  True,  True],\n",
       "       ...,\n",
       "       [False, False, False, ..., False, False, False],\n",
       "       [False, False, False, ..., False, False, False],\n",
       "       [False, False, False, ..., False, False, False]])"
      ]
     },
     "execution_count": 12,
     "metadata": {},
     "output_type": "execute_result"
    }
   ],
   "source": [
    "leaflet_mask"
   ]
  },
  {
   "cell_type": "markdown",
   "id": "aee93872",
   "metadata": {},
   "source": [
    "## Create our plotting object\n",
    "\n",
    "We will use `scc.project_SCC` to caclulate $S_{CC}$ as a function of $xy$ positions and generate an initial plot.\n"
   ]
  },
  {
   "cell_type": "code",
   "execution_count": 13,
   "id": "ca50ecec",
   "metadata": {},
   "outputs": [
    {
     "data": {
      "image/png": "[encoded data removed]",
      "text/plain": [
       "<Figure size 216x216 with 2 Axes>"
      ]
     },
     "metadata": {
      "needs_background": "light"
     },
     "output_type": "display_data"
    }
   ],
   "source": [
    "scc_UL = scc.project_SCC(\n",
    "    lipid_sel=\"name GL1 GL2\",  # select phospholipid atoms for calculating the COM of each lipid\n",
    "    filter_by=leaflet_mask,    # use only lipids in the upper leaflet\n",
    "    start=-20                  # use Scc values from 100 frames from the end onwards, otherwise the whole trajectory will be used\n",
    ")\n"
   ]
  },
  {
   "cell_type": "markdown",
   "id": "440a77d3",
   "metadata": {},
   "source": [
    "## Adjusting the aesthetics\n",
    "\n",
    "There are many options that we can use to control the aesthetics of out plot. Below we will look at some of these options.\n",
    "\n",
    "**We can change the aesthetics of our plot without creating a new object - we simply need to call `plot_projection` again**\n"
   ]
  },
  {
   "cell_type": "code",
   "execution_count": 14,
   "id": "50a8ba9b",
   "metadata": {},
   "outputs": [
    {
     "data": {
      "image/png": "[encoded data removed]",
      "text/plain": [
       "<Figure size 252x252 with 2 Axes>"
      ]
     },
     "metadata": {
      "needs_background": "light"
     },
     "output_type": "display_data"
    }
   ],
   "source": [
    "# set the size of our plot (in inches)\n",
    "fig, ax = plt.subplots(1, figsize=(3.5, 3.5))\n",
    "\n",
    "scc_UL.plot_projection(\n",
    "    ax=ax,                  # where to plot the plot\n",
    "    title=\"Upper leaflet\",\n",
    "    vmin=0.0,               # colourbar maximum value\n",
    "    vmax=1,                 # colourbar minimum value\n",
    "    cmap=\"RdBu\",            # colourmap to use\n",
    "    cbar_kws={\"shrink\": 0.85, \"label\": r\"$S_{CC}$\"}  # make the colourbar smaller and give it a label\n",
    ")\n"
   ]
  },
  {
   "cell_type": "markdown",
   "id": "380fb4f3",
   "metadata": {},
   "source": [
    "In this membrane, there is a clear separation between $L_o$ regions with ordered acyl tails (large $S_{CC}$ values) and $L_d$ regions with disordered acyl tails (small $S_{CC}$ values)."
   ]
  },
  {
   "cell_type": "code",
   "execution_count": null,
   "id": "b0e59a06",
   "metadata": {},
   "outputs": [],
   "source": []
  }
 ],
 "metadata": {
  "kernelspec": {
   "display_name": "Python 3",
   "language": "python",
   "name": "python3"
  },
  "language_info": {
   "codemirror_mode": {
    "name": "ipython",
    "version": 3
   },
   "file_extension": ".py",
   "mimetype": "text/x-python",
   "name": "python",
   "nbconvert_exporter": "python",
   "pygments_lexer": "ipython3",
   "version": "3.7.13"
  },
  "widgets": {
   "application/vnd.jupyter.widget-state+json": {
    "state": {
     "004a2296e5614a9f929cac4315ed653d": {
      "model_module": "@jupyter-widgets/controls",
      "model_module_version": "1.5.0",
      "model_name": "FloatProgressModel",
      "state": {
       "bar_style": "success",
       "layout": "IPY_MODEL_a29f9603e751471d81bfd070fdfc4521",
       "max": 51,
       "style": "IPY_MODEL_b8f0d38d2bec4a488fc31bb850426ed7",
       "value": 51
      }
     },
     "049f897769f44861ad26e971bbd498c9": {
      "model_module": "@jupyter-widgets/controls",
      "model_module_version": "1.5.0",
      "model_name": "FloatProgressModel",
      "state": {
       "bar_style": "success",
       "layout": "IPY_MODEL_2b448b0dbd414919b34bc4dc82200a37",
       "max": 51,
       "style": "IPY_MODEL_cacca0faaa7049578e1f88fcb330a41f",
       "value": 51
      }
     },
     "11a57c2aae924574a79b5a727c743fb2": {
      "model_module": "@jupyter-widgets/base",
      "model_module_version": "1.2.0",
      "model_name": "LayoutModel",
      "state": {}
     },
     "2b448b0dbd414919b34bc4dc82200a37": {
      "model_module": "@jupyter-widgets/base",
      "model_module_version": "1.2.0",
      "model_name": "LayoutModel",
      "state": {}
     },
     "316c1590cbff48648b5864baa51b4dfc": {
      "model_module": "@jupyter-widgets/controls",
      "model_module_version": "1.5.0",
      "model_name": "DescriptionStyleModel",
      "state": {
       "description_width": ""
      }
     },
     "574df540a7fc464c890ce753088d2e40": {
      "model_module": "@jupyter-widgets/base",
      "model_module_version": "1.2.0",
      "model_name": "LayoutModel",
      "state": {}
     },
     "68d055a0a2cb4a3ca37989cd7b26f79b": {
      "model_module": "@jupyter-widgets/controls",
      "model_module_version": "1.5.0",
      "model_name": "HBoxModel",
      "state": {
       "children": [
        "IPY_MODEL_ef68eefcd77f44d4a1ea2ea75581ab01",
        "IPY_MODEL_004a2296e5614a9f929cac4315ed653d",
        "IPY_MODEL_8c781afada674eceb34a89cf86ff9860"
       ],
       "layout": "IPY_MODEL_7c12b17fe51642f384db3bc322d45459"
      }
     },
     "755b99921e554c2fa4002b4c33a25064": {
      "model_module": "@jupyter-widgets/controls",
      "model_module_version": "1.5.0",
      "model_name": "DescriptionStyleModel",
      "state": {
       "description_width": ""
      }
     },
     "7c12b17fe51642f384db3bc322d45459": {
      "model_module": "@jupyter-widgets/base",
      "model_module_version": "1.2.0",
      "model_name": "LayoutModel",
      "state": {}
     },
     "8c781afada674eceb34a89cf86ff9860": {
      "model_module": "@jupyter-widgets/controls",
      "model_module_version": "1.5.0",
      "model_name": "HTMLModel",
      "state": {
       "layout": "IPY_MODEL_93b4a394eac24991880690a786210549",
       "style": "IPY_MODEL_eb464c2c342642a3b87f87be1b2b05ac",
       "value": " 51/51 [00:01&lt;00:00, 41.70it/s]"
      }
     },
     "93b4a394eac24991880690a786210549": {
      "model_module": "@jupyter-widgets/base",
      "model_module_version": "1.2.0",
      "model_name": "LayoutModel",
      "state": {}
     },
     "94fa96ca91554f2e90cc29f2b54ebb7c": {
      "model_module": "@jupyter-widgets/controls",
      "model_module_version": "1.5.0",
      "model_name": "HBoxModel",
      "state": {
       "children": [
        "IPY_MODEL_9a3c0126d2e94c0ab1d7a4a65a34102b",
        "IPY_MODEL_049f897769f44861ad26e971bbd498c9",
        "IPY_MODEL_b19923f2a3214ec299c8c2ee691a62f5"
       ],
       "layout": "IPY_MODEL_11a57c2aae924574a79b5a727c743fb2"
      }
     },
     "9a3c0126d2e94c0ab1d7a4a65a34102b": {
      "model_module": "@jupyter-widgets/controls",
      "model_module_version": "1.5.0",
      "model_name": "HTMLModel",
      "state": {
       "layout": "IPY_MODEL_ed9db70b5e594390a640345908d479d9",
       "style": "IPY_MODEL_316c1590cbff48648b5864baa51b4dfc",
       "value": "100%"
      }
     },
     "a29f9603e751471d81bfd070fdfc4521": {
      "model_module": "@jupyter-widgets/base",
      "model_module_version": "1.2.0",
      "model_name": "LayoutModel",
      "state": {}
     },
     "b19923f2a3214ec299c8c2ee691a62f5": {
      "model_module": "@jupyter-widgets/controls",
      "model_module_version": "1.5.0",
      "model_name": "HTMLModel",
      "state": {
       "layout": "IPY_MODEL_574df540a7fc464c890ce753088d2e40",
       "style": "IPY_MODEL_ed28d162608649daaa6d6fc7bb41ca4c",
       "value": " 51/51 [00:01&lt;00:00, 42.18it/s]"
      }
     },
     "b8f0d38d2bec4a488fc31bb850426ed7": {
      "model_module": "@jupyter-widgets/controls",
      "model_module_version": "1.5.0",
      "model_name": "ProgressStyleModel",
      "state": {
       "description_width": ""
      }
     },
     "cacca0faaa7049578e1f88fcb330a41f": {
      "model_module": "@jupyter-widgets/controls",
      "model_module_version": "1.5.0",
      "model_name": "ProgressStyleModel",
      "state": {
       "description_width": ""
      }
     },
     "eb464c2c342642a3b87f87be1b2b05ac": {
      "model_module": "@jupyter-widgets/controls",
      "model_module_version": "1.5.0",
      "model_name": "DescriptionStyleModel",
      "state": {
       "description_width": ""
      }
     },
     "ed28d162608649daaa6d6fc7bb41ca4c": {
      "model_module": "@jupyter-widgets/controls",
      "model_module_version": "1.5.0",
      "model_name": "DescriptionStyleModel",
      "state": {
       "description_width": ""
      }
     },
     "ed9db70b5e594390a640345908d479d9": {
      "model_module": "@jupyter-widgets/base",
      "model_module_version": "1.2.0",
      "model_name": "LayoutModel",
      "state": {}
     },
     "ef68eefcd77f44d4a1ea2ea75581ab01": {
      "model_module": "@jupyter-widgets/controls",
      "model_module_version": "1.5.0",
      "model_name": "HTMLModel",
      "state": {
       "layout": "IPY_MODEL_f46f3c972e0c4357a1808b7e0fb8fa38",
       "style": "IPY_MODEL_755b99921e554c2fa4002b4c33a25064",
       "value": "100%"
      }
     },
     "f46f3c972e0c4357a1808b7e0fb8fa38": {
      "model_module": "@jupyter-widgets/base",
      "model_module_version": "1.2.0",
      "model_name": "LayoutModel",
      "state": {}
     }
    },
    "version_major": 2,
    "version_minor": 0
   }
  }
 },
 "nbformat": 4,
 "nbformat_minor": 5
}
