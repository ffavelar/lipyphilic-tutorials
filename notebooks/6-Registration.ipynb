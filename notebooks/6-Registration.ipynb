{
 "cells": [
  {
   "cell_type": "markdown",
   "metadata": {},
   "source": [
    "# Calculating domain registration over time\n",
    "\n",
    "Lipid-rafts are functional platforms in the plasma membrane that consist of $L_o$ lipids, and they act as sites for the aggregation of membrane-signalling proteins. Lipid-rafts are thought be very small, on the order of nanometers. Some pure lipid mixtures for so-called nanodomains - small regions of $L_o$ lipids in an otherwise $L_d$ bulk phase. These pure lipid mixtures are frequently used as approximations to lipid-rafts as they are much easier to study.\n",
    "\n",
    "There is much interest in understanding under what conditions nanodomains in apposing leaflets are spatially aligned. Such alignment is known as interleaflet registration. The class `lipyphilic.lib.registration.Registration` can be used to quantify the degree of interleaflet registration in a planar bilayer.\n",
    "\n",
    "`Registration` is an implementation of the registration analysis described by [Thallmair et al.](https://pubs.acs.org/doi/10.1021/acs.jpclett.8b01877) The degree of registration is calculated as the Pearson correlation coefficient of molecular densities in the upper and lower leaflets. First, the two-dimensional density of each leaflet is calculated:\n",
    "\n",
    "$$\n",
    "  \\rho(x, y)_{L} = \\displaystyle \\int\\limits_{-\\infty}^{\\infty} \\frac{1}{2\\pi\\sigma^2} \\exp \\Bigg({-}\\frac{1}{2} \\bigg[ \\bigg(\\frac{x' - x}{\\sigma} \\bigg)^2 + \\bigg(\\frac{y' - y}{\\sigma} \\bigg)^2 \\bigg] \\Bigg) \\,\\text{d}x' \\text{d}y'\n",
    "$$\n",
    "\n",
    "where the $(x, y)$ positions of lipid atoms in leaflet $L$ are binned into two-dimensional histograms with bin lengths of 1 Å. $L$ is either the upper ($u$) or lower ($l$) leaflet. The two-dimensional density is then convolved with a circular Gaussian density of standard deviation $\\sigma$. \n",
    "\n",
    "The registration between the two leaflets, $r_{u/l}$, is then calculated as the Pearson correlation coefficient between $\\rho(x, y)_{u}$ and $\\rho(x, y)_{l}$. Values of $r_{u/l}=1$ correspond to perfectly registered domains and values of $r_{u/l}=-1$ correspond to perfectly anti-registered domains.\n",
    "\n",
    "Below, we will look at the registration of $L_o$ lipids in a DPPC, DOPC, and cholesterol membrane simulated by [Smith et al.](https://www.biorxiv.org/content/10.1101/2021.05.24.445501v3)."
   ]
  },
  {
   "cell_type": "code",
   "execution_count": 1,
   "metadata": {},
   "outputs": [],
   "source": [
    "import pathlib\n",
    "import pickle\n",
    "\n",
    "import numpy as np\n",
    "import matplotlib.pyplot as plt\n",
    "\n",
    "import MDAnalysis as mda\n",
    "from lipyphilic.lib.registration import Registration\n"
   ]
  },
  {
   "cell_type": "markdown",
   "metadata": {},
   "source": [
    "## Load the topology and trajectory using MDAnalysis"
   ]
  },
  {
   "cell_type": "code",
   "execution_count": 2,
   "metadata": {},
   "outputs": [],
   "source": [
    "u = mda.Universe(\"../datafiles/dppc-dopc-chol.tpr\", \"../datafiles/dppc-dopc-chol.xtc\")"
   ]
  },
  {
   "cell_type": "markdown",
   "metadata": {},
   "source": [
    "## Load the leaflet information\n",
    "\n",
    "To calculate interleaflet registration, we first need to know which leaflet each lipid is in at each frame. We will use the results from the notebook on [assigning lipids to leaflets](2-AssignLeaflets.ipynb).\n"
   ]
  },
  {
   "cell_type": "code",
   "execution_count": 3,
   "metadata": {},
   "outputs": [],
   "source": [
    "with open(\"../results/leaflets/leaflets-dppc-dopc-chol.pkl\", 'rb') as f:\n",
    "    leaflets = pickle.load(f)\n",
    "    "
   ]
  },
  {
   "cell_type": "markdown",
   "metadata": {},
   "source": [
    "## Load data on lipid order information\n",
    "\n",
    "To calculate interleaflet registration of $L_o$ lipids, we first need to know whether each lipid at each frame is $L_d$ or $L_o$.\n",
    "\n",
    "[In another tutorial](HiddenMarkovModel.ipynb), we construct a hidden Markov model based on lipid thicknesses in order to determine whether each lipid in each frame is liquid-ordered ($L_o$) or liquid-disordered ($L_d$). We will use this information here in order to quantify to local lipid environments.\n"
   ]
  },
  {
   "cell_type": "code",
   "execution_count": 4,
   "metadata": {},
   "outputs": [],
   "source": [
    "# Load the lipid order data\n",
    "filename = \"../results/HMM/lipid-order.npy\"\n",
    "lipid_order = np.load(filename)\n"
   ]
  },
  {
   "cell_type": "markdown",
   "metadata": {},
   "source": [
    "`lipid_order` is a two-dimensional NumPy. Like many analyses in **lipyphilic**, the array is of shape ($N_{\\rm lipids}$, $N_{\\rm lipids}$) The:\n",
    "\n",
    "- rows correspond to individual lipids\n",
    "- columns correspond to individual frames.\n",
    "\n",
    "In the array, the ordered state of each lipid is defined as follows:\n",
    "\n",
    "- values of 1 indicate the lipid is in the $L_o$ state\n",
    "- values of -1 indicate the lipid is in the $L_d$ state\n",
    "\n",
    "Let's look at the array:\n"
   ]
  },
  {
   "cell_type": "code",
   "execution_count": 5,
   "metadata": {},
   "outputs": [
    {
     "data": {
      "text/plain": [
       "array([[ 1,  1,  1, ...,  1,  1,  1],\n",
       "       [ 1,  1,  1, ..., -1, -1, -1],\n",
       "       [ 1,  1,  1, ...,  1,  1,  1],\n",
       "       ...,\n",
       "       [ 1,  1,  1, ...,  1,  1,  1],\n",
       "       [-1, -1, -1, ..., -1, -1, -1],\n",
       "       [ 1,  1,  1, ...,  1,  1,  1]], dtype=int8)"
      ]
     },
     "execution_count": 5,
     "metadata": {},
     "output_type": "execute_result"
    }
   ],
   "source": [
    "lipid_order"
   ]
  },
  {
   "cell_type": "markdown",
   "metadata": {},
   "source": [
    "We see the first lipid (first row) is $L_o$ both at the beginning and end of the frames used in the analysis.\n",
    "\n",
    "The second lipid (second row) is $L_o$ at the beginning of the analysis but $L_d$ at the end.\n",
    "\n"
   ]
  },
  {
   "cell_type": "markdown",
   "metadata": {},
   "source": [
    "## Calculate interleaflet registration\n",
    "\n",
    "To calculate the interleaflet registration, we will used the class `Registration`.\n",
    "\n",
    "We need to pass a lipid selection for each leaflet (`upper_sel` and `lower_sel`), along with the leaflet membership (`leaflets`). As we wish to calculate the registration of $L_o$ lipids, we will pass a boolean mask to the `filter_by` keyword of `Registration`. A boolean mask is an array of `True` and `False` values, and in our case it will tell `Registration` whether or not to consider each lipid.\n"
   ]
  },
  {
   "cell_type": "code",
   "execution_count": 6,
   "metadata": {},
   "outputs": [],
   "source": [
    "registration = Registration(\n",
    "    universe=u,\n",
    "    upper_sel=\"name GL1 GL2 ROH\",    # select all lipids in the membrane\n",
    "    lower_sel=\"name GL1 GL2 ROH\",\n",
    "    leaflets=leaflets.leaflets,      # pass the leaflet information\n",
    "    filter_by=lipid_order == 1       # consider only L_o lipids\n",
    ")\n"
   ]
  },
  {
   "cell_type": "markdown",
   "metadata": {},
   "source": [
    "We then select which frames of the trajectory to analyse (`None` will use every frame) and choose to display a progress bar (`verbose=True`):\n",
    "  "
   ]
  },
  {
   "cell_type": "code",
   "execution_count": 7,
   "metadata": {},
   "outputs": [
    {
     "data": {
      "application/vnd.jupyter.widget-view+json": {
       "model_id": "796b55cd9c2a4f1f8425643a509115bd",
       "version_major": 2,
       "version_minor": 0
      },
      "text/plain": [
       "  0%|          | 0/51 [00:00<?, ?it/s]"
      ]
     },
     "metadata": {},
     "output_type": "display_data"
    },
    {
     "data": {
      "text/plain": [
       "<lipyphilic.lib.registration.Registration at 0x7f8e4456c370>"
      ]
     },
     "execution_count": 7,
     "metadata": {},
     "output_type": "execute_result"
    }
   ],
   "source": [
    "registration.run(\n",
    "    start=None,\n",
    "    stop=None,\n",
    "    step=None,\n",
    "    verbose=True\n",
    ")\n"
   ]
  },
  {
   "cell_type": "markdown",
   "metadata": {},
   "source": [
    "## Accessing the results"
   ]
  },
  {
   "cell_type": "markdown",
   "metadata": {},
   "source": [
    "The results are available in the `registration.registration` attribute as a NumPy array, in which:\n",
    "- 1 corresponds to the leaflets being perfectly in register\n",
    "- -1 corresponds to the leaflets being perfectly anti-registered\n"
   ]
  },
  {
   "cell_type": "code",
   "execution_count": 8,
   "metadata": {},
   "outputs": [
    {
     "data": {
      "text/plain": [
       "51"
      ]
     },
     "execution_count": 8,
     "metadata": {},
     "output_type": "execute_result"
    }
   ],
   "source": [
    "# There is one value for each frame\n",
    "registration.registration.size"
   ]
  },
  {
   "cell_type": "markdown",
   "metadata": {},
   "source": [
    "And we see the domains are highly registered"
   ]
  },
  {
   "cell_type": "code",
   "execution_count": 9,
   "metadata": {},
   "outputs": [
    {
     "data": {
      "text/plain": [
       "array([0.97084801, 0.96843655, 0.96961319, 0.96853573, 0.97056211,\n",
       "       0.97047497, 0.96946172, 0.96612999, 0.96716027, 0.96948756,\n",
       "       0.9703926 , 0.97050605, 0.97110132, 0.97084109, 0.97190522,\n",
       "       0.97107553, 0.97268228, 0.97274188, 0.97161693, 0.96769835,\n",
       "       0.9691056 , 0.97045798, 0.97245773, 0.97287451, 0.97232677,\n",
       "       0.97060992, 0.96841088, 0.97083569, 0.97171274, 0.97303408,\n",
       "       0.97402462, 0.9720658 , 0.97198342, 0.97217697, 0.97234439,\n",
       "       0.971597  , 0.9738156 , 0.9710962 , 0.97297442, 0.97144168,\n",
       "       0.97197271, 0.97214213, 0.97145197, 0.97317605, 0.97556718,\n",
       "       0.97711723, 0.97403916, 0.97174973, 0.97285164, 0.97337764,\n",
       "       0.97518734])"
      ]
     },
     "execution_count": 9,
     "metadata": {},
     "output_type": "execute_result"
    }
   ],
   "source": [
    "registration.registration"
   ]
  },
  {
   "cell_type": "markdown",
   "metadata": {},
   "source": [
    "This is because the frame we are analysing are taken from the end of a simulation. At this time, the phase-separation between $L_o$ and $L_d$ regions is complete and the domains are fully registered.\n"
   ]
  },
  {
   "cell_type": "markdown",
   "metadata": {},
   "source": [
    "## Plotting the results\n",
    "\n",
    "We can plot the results to check whether the domains are becoming more registered over time:\n"
   ]
  },
  {
   "cell_type": "code",
   "execution_count": 10,
   "metadata": {},
   "outputs": [
    {
     "data": {
      "text/plain": [
       "Text(0.5, 0, 'Time ($\\\\rm \\\\mu s$)')"
      ]
     },
     "execution_count": 10,
     "metadata": {},
     "output_type": "execute_result"
    },
    {
     "data": {
      "image/png": "[encoded data removed]",
      "text/plain": [
       "<Figure size 432x288 with 1 Axes>"
      ]
     },
     "metadata": {
      "needs_background": "light"
     },
     "output_type": "display_data"
    }
   ],
   "source": [
    "plt.plot(registration.times, registration.registration)\n",
    "\n",
    "plt.ylabel(\"Registration\")\n",
    "plt.xlabel(r\"Time ($\\rm \\mu s$)\")\n"
   ]
  },
  {
   "cell_type": "code",
   "execution_count": null,
   "metadata": {},
   "outputs": [],
   "source": []
  }
 ],
 "metadata": {
  "kernelspec": {
   "display_name": "Python 3",
   "language": "python",
   "name": "python3"
  },
  "language_info": {
   "codemirror_mode": {
    "name": "ipython",
    "version": 3
   },
   "file_extension": ".py",
   "mimetype": "text/x-python",
   "name": "python",
   "nbconvert_exporter": "python",
   "pygments_lexer": "ipython3",
   "version": "3.7.13"
  },
  "widgets": {
   "application/vnd.jupyter.widget-state+json": {
    "state": {
     "23ed1d4374ba45f8a968aa635f76a3e9": {
      "model_module": "@jupyter-widgets/controls",
      "model_module_version": "1.5.0",
      "model_name": "HTMLModel",
      "state": {
       "layout": "IPY_MODEL_c18fe973a1774d978f898ea7c7020e1f",
       "style": "IPY_MODEL_4019b144167346b295177996f1bce7a2",
       "value": "100%"
      }
     },
     "4019b144167346b295177996f1bce7a2": {
      "model_module": "@jupyter-widgets/controls",
      "model_module_version": "1.5.0",
      "model_name": "DescriptionStyleModel",
      "state": {
       "description_width": ""
      }
     },
     "56a4844a6bfe4dcdb315353fab79cae7": {
      "model_module": "@jupyter-widgets/base",
      "model_module_version": "1.2.0",
      "model_name": "LayoutModel",
      "state": {}
     },
     "6f6d501bb7874cc89c25c2a4e98e0a27": {
      "model_module": "@jupyter-widgets/controls",
      "model_module_version": "1.5.0",
      "model_name": "FloatProgressModel",
      "state": {
       "bar_style": "success",
       "layout": "IPY_MODEL_f7249833919548619e1752924be9766c",
       "max": 51,
       "style": "IPY_MODEL_7d3927ddfbed4505816a6988b31a54c4",
       "value": 51
      }
     },
     "796b55cd9c2a4f1f8425643a509115bd": {
      "model_module": "@jupyter-widgets/controls",
      "model_module_version": "1.5.0",
      "model_name": "HBoxModel",
      "state": {
       "children": [
        "IPY_MODEL_23ed1d4374ba45f8a968aa635f76a3e9",
        "IPY_MODEL_6f6d501bb7874cc89c25c2a4e98e0a27",
        "IPY_MODEL_895a3b192f56459dab13171246c1a784"
       ],
       "layout": "IPY_MODEL_c6955f64462142ab9c4fc5f6fc52d503"
      }
     },
     "7d3927ddfbed4505816a6988b31a54c4": {
      "model_module": "@jupyter-widgets/controls",
      "model_module_version": "1.5.0",
      "model_name": "ProgressStyleModel",
      "state": {
       "description_width": ""
      }
     },
     "825335a2228c4f009168ac847b954b43": {
      "model_module": "@jupyter-widgets/controls",
      "model_module_version": "1.5.0",
      "model_name": "DescriptionStyleModel",
      "state": {
       "description_width": ""
      }
     },
     "895a3b192f56459dab13171246c1a784": {
      "model_module": "@jupyter-widgets/controls",
      "model_module_version": "1.5.0",
      "model_name": "HTMLModel",
      "state": {
       "layout": "IPY_MODEL_56a4844a6bfe4dcdb315353fab79cae7",
       "style": "IPY_MODEL_825335a2228c4f009168ac847b954b43",
       "value": " 51/51 [00:07&lt;00:00,  6.22it/s]"
      }
     },
     "c18fe973a1774d978f898ea7c7020e1f": {
      "model_module": "@jupyter-widgets/base",
      "model_module_version": "1.2.0",
      "model_name": "LayoutModel",
      "state": {}
     },
     "c6955f64462142ab9c4fc5f6fc52d503": {
      "model_module": "@jupyter-widgets/base",
      "model_module_version": "1.2.0",
      "model_name": "LayoutModel",
      "state": {}
     },
     "f7249833919548619e1752924be9766c": {
      "model_module": "@jupyter-widgets/base",
      "model_module_version": "1.2.0",
      "model_name": "LayoutModel",
      "state": {}
     }
    },
    "version_major": 2,
    "version_minor": 0
   }
  }
 },
 "nbformat": 4,
 "nbformat_minor": 4
}
