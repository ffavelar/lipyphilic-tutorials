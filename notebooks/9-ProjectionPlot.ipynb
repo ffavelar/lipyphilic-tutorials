{
 "cells": [
  {
   "cell_type": "markdown",
   "metadata": {},
   "source": [
    "# Create two-dimensional projections of arbitrary lipid properties onto the membrane plane\n",
    "\n",
    "Given certain lipid species are know to colocalise within membranes, and the fact that such aggregation will affect local membrane properties, it is often useful to know how the properties of a membrane change across the membrane plane.\n",
    "\n",
    "In this notebook, we will look at how to create two-dimensional projections of lipid properties onto the membrane plane.\n",
    "\n",
    "We will first prokect the ordered state ($\\rm L_o$ and $\\rm L_d$) of lipids onto the membrane plane. Then we will look at how to project the local membrane thicknesses onto the membrane plane, after calculating the local thicknesses using the membrane analysis tool [FATSLiM](http://fatslim.github.io/). In both cases, we wil be using a ternary mixture of DPPC, DOPC, and Cholesterol simulated by [Smith et al.](https://www.biorxiv.org/content/10.1101/2021.05.24.445501v3).\n"
   ]
  },
  {
   "cell_type": "code",
   "execution_count": 1,
   "metadata": {},
   "outputs": [],
   "source": [
    "import pickle\n",
    "\n",
    "import numpy as np\n",
    "import pandas as pd\n",
    "import matplotlib\n",
    "import matplotlib.pyplot as plt\n",
    "\n",
    "import MDAnalysis as mda\n",
    "from lipyphilic.lib.plotting import ProjectionPlot\n"
   ]
  },
  {
   "cell_type": "markdown",
   "metadata": {},
   "source": [
    "# Project lipid order state ($L_o$ or $L_d$) onto the membrane plane"
   ]
  },
  {
   "cell_type": "markdown",
   "metadata": {},
   "source": [
    "## Load the topology and trajectory using MDAnalysis"
   ]
  },
  {
   "cell_type": "code",
   "execution_count": 2,
   "metadata": {},
   "outputs": [],
   "source": [
    "u = mda.Universe(\"../datafiles/dppc-dopc-chol.tpr\", \"../datafiles/dppc-dopc-chol.xtc\")"
   ]
  },
  {
   "cell_type": "markdown",
   "metadata": {},
   "source": [
    "## Load the leaflet information\n",
    "\n",
    "We want to project values onto each leaflet separately. Thus,we need to know which leaflet each lipid is in at each frame. We will use the results from the notebook on [assigning lipids to leaflets](2-AssignLeaflets.ipynb).\n"
   ]
  },
  {
   "cell_type": "code",
   "execution_count": 3,
   "metadata": {},
   "outputs": [],
   "source": [
    "with open(\"../results/leaflets/leaflets-dppc-dopc-chol.pkl\", 'rb') as f:\n",
    "    leaflets = pickle.load(f)\n",
    "    "
   ]
  },
  {
   "cell_type": "markdown",
   "metadata": {},
   "source": [
    "## Load data on lipid order information\n",
    "\n",
    "We also need to know whether each lipid at each frame is $L_d$ or $L_o$.\n",
    "\n",
    "[In another tutorial](HiddenMarkovModel.ipynb), we construct a hidden Markov model based on lipid thicknesses in order to determine whether each lipid in each frame is liquid-ordered ($L_o$) or liquid-disordered ($L_d$). \n"
   ]
  },
  {
   "cell_type": "code",
   "execution_count": 4,
   "metadata": {},
   "outputs": [],
   "source": [
    "# Load the lipid order data\n",
    "filename = \"../results/HMM/lipid-order.npy\"\n",
    "lipid_order = np.load(filename)\n"
   ]
  },
  {
   "cell_type": "markdown",
   "metadata": {},
   "source": [
    "`lipid_order` is a two-dimensional NumPy. Like many analyses in **lipyphilic**, the array is of shape ($N_{\\rm lipids}$, $N_{\\rm lipids}$) The:\n",
    "\n",
    "- rows correspond to individual lipids\n",
    "- columns correspond to individual frames.\n",
    "\n",
    "In the array, the ordered state of each lipid is defined as follows:\n",
    "\n",
    "- values of 1 indicate the lipid is in the $L_o$ state\n",
    "- values of -1 indicate the lipid is in the $L_d$ state\n",
    "\n",
    "Let's look at the array:\n"
   ]
  },
  {
   "cell_type": "code",
   "execution_count": 5,
   "metadata": {},
   "outputs": [
    {
     "data": {
      "text/plain": [
       "array([[ 1,  1,  1, ...,  1,  1,  1],\n",
       "       [ 1,  1,  1, ..., -1, -1, -1],\n",
       "       [ 1,  1,  1, ...,  1,  1,  1],\n",
       "       ...,\n",
       "       [ 1,  1,  1, ...,  1,  1,  1],\n",
       "       [-1, -1, -1, ..., -1, -1, -1],\n",
       "       [ 1,  1,  1, ...,  1,  1,  1]], dtype=int8)"
      ]
     },
     "execution_count": 5,
     "metadata": {},
     "output_type": "execute_result"
    }
   ],
   "source": [
    "lipid_order"
   ]
  },
  {
   "cell_type": "markdown",
   "metadata": {},
   "source": [
    "We see the first lipid (first row) is $L_o$ both at the beginning and end of the frames used in the analysis.\n",
    "\n",
    "The second lipid (second row) is $L_o$ at the beginning of the analysis but $L_d$ at the end.\n",
    "\n"
   ]
  },
  {
   "cell_type": "markdown",
   "metadata": {},
   "source": [
    "## Plot the ordered state in x and y\n",
    "\n",
    "We must pass the $xy$ positions of our lipids in the upper leaflet, as well as their ordered state, to `ProjectionPlot`.\n",
    "\n",
    "We will use the data from the final frame only.\n"
   ]
  },
  {
   "cell_type": "code",
   "execution_count": 6,
   "metadata": {},
   "outputs": [],
   "source": [
    "# load the final frame coordaintes into memory\n",
    "frame_index = -1\n",
    "u.trajectory[frame_index]  \n",
    "\n",
    "# select all lipids in the membrane\n",
    "membrane = u.select_atoms(\"resname DPPC DOPC CHOL\").residues\n",
    "\n",
    "# calculate the center of mass of each lipid\n",
    "x_pos, y_pos, _ = membrane.center_of_mass(compound=\"residues\").T\n"
   ]
  },
  {
   "cell_type": "markdown",
   "metadata": {},
   "source": [
    "We want to include only lipids in the upper leaflet. We will therefore filter the coordinates and lipid order data based on the leaflet membership:"
   ]
  },
  {
   "cell_type": "code",
   "execution_count": 7,
   "metadata": {},
   "outputs": [],
   "source": [
    "# use the upper leaflet positions only\n",
    "upper_mask = (leaflets.leaflets[:, frame_index] == 1)\n",
    "\n",
    "# filter the coordinates\n",
    "upper_x_pos = x_pos[upper_mask]\n",
    "upper_y_pos = y_pos[upper_mask]\n",
    "upper_lipid_order = lipid_order[upper_mask, frame_index]\n"
   ]
  },
  {
   "cell_type": "markdown",
   "metadata": {},
   "source": [
    "We can now create our `ProjectionPlot` object:"
   ]
  },
  {
   "cell_type": "code",
   "execution_count": 8,
   "metadata": {},
   "outputs": [],
   "source": [
    "projection = ProjectionPlot(\n",
    "    x_pos=upper_x_pos,\n",
    "    y_pos=upper_y_pos,\n",
    "    values=upper_lipid_order\n",
    ")\n"
   ]
  },
  {
   "cell_type": "markdown",
   "metadata": {},
   "source": [
    "Then project these lipid order data onto the membrane plane. For this, we can specificy how to bin the $xy$ coordinates into a two-dimensional histgram:"
   ]
  },
  {
   "cell_type": "code",
   "execution_count": 9,
   "metadata": {},
   "outputs": [],
   "source": [
    "# We will create 1 x 1 Angstrom bins that covers the entire range of the system in xy\n",
    "bins = np.linspace(0, u.dimensions[0], int(np.ceil(u.dimensions[0]) + 1))\n"
   ]
  },
  {
   "cell_type": "code",
   "execution_count": 10,
   "metadata": {},
   "outputs": [],
   "source": [
    "projection.project_values(bins=bins)"
   ]
  },
  {
   "cell_type": "markdown",
   "metadata": {},
   "source": [
    "Before creating the plot, we will use interpolate missing values and remove NaN values:"
   ]
  },
  {
   "cell_type": "code",
   "execution_count": 11,
   "metadata": {},
   "outputs": [],
   "source": [
    "projection.interpolate(method=\"linear\")"
   ]
  },
  {
   "cell_type": "markdown",
   "metadata": {},
   "source": [
    "Now we will plot the two-dimensional distribution"
   ]
  },
  {
   "cell_type": "code",
   "execution_count": 12,
   "metadata": {},
   "outputs": [
    {
     "data": {
      "image/png": "[encoded data removed]",
      "text/plain": [
       "<Figure size 216x216 with 2 Axes>"
      ]
     },
     "metadata": {
      "needs_background": "light"
     },
     "output_type": "display_data"
    }
   ],
   "source": [
    "projection.plot_projection(\n",
    ")"
   ]
  },
  {
   "cell_type": "markdown",
   "metadata": {},
   "source": [
    "## Adjusting the aesthetics\n",
    "\n",
    "Our generated plot has a continuous colourscale, even though we have discrete values (-1 and 1).\n",
    "\n",
    "There are many options that we can use to control the aesthetics of out plot. Below we will look at some of these options, including how to create a discrete colourmap.\n"
   ]
  },
  {
   "cell_type": "code",
   "execution_count": 13,
   "metadata": {},
   "outputs": [],
   "source": [
    "# Create a colormap\n",
    "cmap = matplotlib.colors.LinearSegmentedColormap.from_list(\n",
    "    name=\"new_cmap\",\n",
    "    colors=[\"xkcd:red\", \"xkcd:sky blue\"]\n",
    ")\n",
    "\n",
    "# ensure the colourmap is discrete by defining its bounds\n",
    "bounds=[-1, 0, 1]\n",
    "norm = matplotlib.colors.BoundaryNorm(bounds, cmap.N)\n"
   ]
  },
  {
   "cell_type": "markdown",
   "metadata": {},
   "source": [
    "Below, we will also plot both the upper and lower leaflet projection on the same figure.\n"
   ]
  },
  {
   "cell_type": "code",
   "execution_count": 14,
   "metadata": {},
   "outputs": [],
   "source": [
    "# define titles for each subfigure\n",
    "titles = [\"Upper\", \"Lower\"]\n"
   ]
  },
  {
   "cell_type": "code",
   "execution_count": 15,
   "metadata": {},
   "outputs": [
    {
     "name": "stderr",
     "output_type": "stream",
     "text": [
      "/home/paul/git-repos/lipyphilic/src/lipyphilic/lib/plotting.py:277: MatplotlibDeprecationWarning: Passing parameters norm and vmin/vmax simultaneously is deprecated since 3.3 and will become an error two minor releases later. Please pass vmin/vmax directly to the norm when creating it.\n",
      "  self._imshow = plt.imshow(\n"
     ]
    },
    {
     "data": {
      "image/png": "[encoded data removed]",
      "text/plain": [
       "<Figure size 504x216 with 3 Axes>"
      ]
     },
     "metadata": {
      "needs_background": "light"
     },
     "output_type": "display_data"
    }
   ],
   "source": [
    "# Create our figure with two subfigures\n",
    "fig, axes = plt.subplots(1, 2, figsize=(7, 3), sharex=True, sharey=True)\n",
    "\n",
    "# iterate over the two leaflets\n",
    "for index, leaflet in enumerate([-1, 1]):\n",
    "    \n",
    "    # Create the projection plot for this leaflet\n",
    "    # Use only the positions and lipid order data of lipids in the current leaflet\n",
    "    projection = ProjectionPlot(\n",
    "        x_pos[leaflets.leaflets[:, frame_index] == leaflet],\n",
    "        y_pos[leaflets.leaflets[:, frame_index] == leaflet],\n",
    "        lipid_order[:, frame_index][leaflets.leaflets[:, frame_index] == leaflet]\n",
    "    )\n",
    "    \n",
    "    # project values\n",
    "    projection.project_values(bins=bins)\n",
    "    \n",
    "    # interpolate\n",
    "    projection.interpolate(method=\"linear\")\n",
    "    \n",
    "    # only add a colour bar for one subfigure\n",
    "    cbar = False if leaflet == -1 else True\n",
    "    \n",
    "    # Plot the distribution\n",
    "    projection.plot_projection(\n",
    "        ax=axes[index],\n",
    "        title=titles[index],\n",
    "        cmap=cmap,                  # use the colourmap we defined\n",
    "        imshow_kws={\"norm\": norm},  # make the colourmap discrete\n",
    "        cbar=cbar\n",
    "    )\n",
    "\n",
    "# reduce the horizontal spacing between the subfigures\n",
    "plt.tight_layout(w_pad=-15)\n",
    "\n",
    "# Add sensible labels to the colourbar\n",
    "projection.cbar.set_ticks([-0.5, 0.5])\n",
    "projection.cbar.set_ticklabels([\"Ld\", \"Lo\"])\n"
   ]
  },
  {
   "cell_type": "markdown",
   "metadata": {},
   "source": [
    "There is a clear separation between the $L_o$ and $L_d$ regions."
   ]
  },
  {
   "cell_type": "markdown",
   "metadata": {},
   "source": [
    "# Project local membrane thicknesses onto the membrane plane\n",
    "\n",
    "The local membrane thickness was calculated using [FATSLiM](https://pythonhosted.org/fatslim/documentation/thickness.html). The following command was run in the `../datafiles` directory:\n",
    "\n",
    "```\n",
    "fatslim thickness -c dppc-dopc-chol.gro -t dppc-dopc-chol.xtc -n dppc-dopc-headgroups.ndx --export-thickness-raw ../results/FATSLiM-thickness/membrane-thickness- --end-frame 1\n",
    "```\n",
    "\n",
    "We use the output of this command to projetion local membrane thicknesses onto the membrane plane.\n"
   ]
  },
  {
   "cell_type": "markdown",
   "metadata": {},
   "source": [
    "## Load the thickness data"
   ]
  },
  {
   "cell_type": "code",
   "execution_count": 16,
   "metadata": {},
   "outputs": [],
   "source": [
    "filename = \"../results/FATSLiM-thickness/membrane-thickness-frame-00000.csv\""
   ]
  },
  {
   "cell_type": "code",
   "execution_count": 17,
   "metadata": {},
   "outputs": [],
   "source": [
    "df = pd.read_csv(filename)\n"
   ]
  },
  {
   "cell_type": "code",
   "execution_count": 18,
   "metadata": {},
   "outputs": [
    {
     "data": {
      "text/html": [
       "<div>\n",
       "<style scoped>\n",
       "    .dataframe tbody tr th:only-of-type {\n",
       "        vertical-align: middle;\n",
       "    }\n",
       "\n",
       "    .dataframe tbody tr th {\n",
       "        vertical-align: top;\n",
       "    }\n",
       "\n",
       "    .dataframe thead th {\n",
       "        text-align: right;\n",
       "    }\n",
       "</style>\n",
       "<table border=\"1\" class=\"dataframe\">\n",
       "  <thead>\n",
       "    <tr style=\"text-align: right;\">\n",
       "      <th></th>\n",
       "      <th>resid</th>\n",
       "      <th>leaflet</th>\n",
       "      <th>X coords</th>\n",
       "      <th>Y coords</th>\n",
       "      <th>Z coords</th>\n",
       "      <th>Thickness</th>\n",
       "    </tr>\n",
       "  </thead>\n",
       "  <tbody>\n",
       "    <tr>\n",
       "      <th>0</th>\n",
       "      <td>8001</td>\n",
       "      <td>lower leaflet</td>\n",
       "      <td>21.209</td>\n",
       "      <td>40.710</td>\n",
       "      <td>1.907</td>\n",
       "      <td>3.875</td>\n",
       "    </tr>\n",
       "    <tr>\n",
       "      <th>1</th>\n",
       "      <td>8002</td>\n",
       "      <td>lower leaflet</td>\n",
       "      <td>11.936</td>\n",
       "      <td>13.348</td>\n",
       "      <td>1.877</td>\n",
       "      <td>4.319</td>\n",
       "    </tr>\n",
       "    <tr>\n",
       "      <th>2</th>\n",
       "      <td>8003</td>\n",
       "      <td>lower leaflet</td>\n",
       "      <td>45.144</td>\n",
       "      <td>42.117</td>\n",
       "      <td>2.082</td>\n",
       "      <td>3.515</td>\n",
       "    </tr>\n",
       "    <tr>\n",
       "      <th>3</th>\n",
       "      <td>8004</td>\n",
       "      <td>lower leaflet</td>\n",
       "      <td>5.371</td>\n",
       "      <td>27.568</td>\n",
       "      <td>2.330</td>\n",
       "      <td>3.875</td>\n",
       "    </tr>\n",
       "    <tr>\n",
       "      <th>4</th>\n",
       "      <td>8005</td>\n",
       "      <td>lower leaflet</td>\n",
       "      <td>47.781</td>\n",
       "      <td>21.739</td>\n",
       "      <td>1.641</td>\n",
       "      <td>3.786</td>\n",
       "    </tr>\n",
       "  </tbody>\n",
       "</table>\n",
       "</div>"
      ],
      "text/plain": [
       "   resid        leaflet  X coords  Y coords  Z coords  Thickness\n",
       "0   8001  lower leaflet    21.209    40.710     1.907      3.875\n",
       "1   8002  lower leaflet    11.936    13.348     1.877      4.319\n",
       "2   8003  lower leaflet    45.144    42.117     2.082      3.515\n",
       "3   8004  lower leaflet     5.371    27.568     2.330      3.875\n",
       "4   8005  lower leaflet    47.781    21.739     1.641      3.786"
      ]
     },
     "execution_count": 18,
     "metadata": {},
     "output_type": "execute_result"
    }
   ],
   "source": [
    "df.head()"
   ]
  },
  {
   "cell_type": "markdown",
   "metadata": {},
   "source": [
    "This DataFrame contains the local membrane thickness for each lipid in each leaflet. We will use only the information for lipids in the upper leaflet:\n"
   ]
  },
  {
   "cell_type": "code",
   "execution_count": 19,
   "metadata": {},
   "outputs": [],
   "source": [
    "df = df.loc[df.leaflet == \"upper leaflet\"]"
   ]
  },
  {
   "cell_type": "code",
   "execution_count": 20,
   "metadata": {},
   "outputs": [
    {
     "data": {
      "text/html": [
       "<div>\n",
       "<style scoped>\n",
       "    .dataframe tbody tr th:only-of-type {\n",
       "        vertical-align: middle;\n",
       "    }\n",
       "\n",
       "    .dataframe tbody tr th {\n",
       "        vertical-align: top;\n",
       "    }\n",
       "\n",
       "    .dataframe thead th {\n",
       "        text-align: right;\n",
       "    }\n",
       "</style>\n",
       "<table border=\"1\" class=\"dataframe\">\n",
       "  <thead>\n",
       "    <tr style=\"text-align: right;\">\n",
       "      <th></th>\n",
       "      <th>resid</th>\n",
       "      <th>leaflet</th>\n",
       "      <th>X coords</th>\n",
       "      <th>Y coords</th>\n",
       "      <th>Z coords</th>\n",
       "      <th>Thickness</th>\n",
       "    </tr>\n",
       "  </thead>\n",
       "  <tbody>\n",
       "    <tr>\n",
       "      <th>4000</th>\n",
       "      <td>2001</td>\n",
       "      <td>upper leaflet</td>\n",
       "      <td>35.289</td>\n",
       "      <td>51.328</td>\n",
       "      <td>6.163</td>\n",
       "      <td>4.166</td>\n",
       "    </tr>\n",
       "    <tr>\n",
       "      <th>4001</th>\n",
       "      <td>2002</td>\n",
       "      <td>upper leaflet</td>\n",
       "      <td>40.708</td>\n",
       "      <td>32.563</td>\n",
       "      <td>5.974</td>\n",
       "      <td>3.894</td>\n",
       "    </tr>\n",
       "    <tr>\n",
       "      <th>4002</th>\n",
       "      <td>2003</td>\n",
       "      <td>upper leaflet</td>\n",
       "      <td>23.919</td>\n",
       "      <td>30.001</td>\n",
       "      <td>6.272</td>\n",
       "      <td>4.193</td>\n",
       "    </tr>\n",
       "    <tr>\n",
       "      <th>4003</th>\n",
       "      <td>2004</td>\n",
       "      <td>upper leaflet</td>\n",
       "      <td>32.416</td>\n",
       "      <td>31.120</td>\n",
       "      <td>6.126</td>\n",
       "      <td>4.028</td>\n",
       "    </tr>\n",
       "    <tr>\n",
       "      <th>4004</th>\n",
       "      <td>2005</td>\n",
       "      <td>upper leaflet</td>\n",
       "      <td>27.297</td>\n",
       "      <td>7.735</td>\n",
       "      <td>6.246</td>\n",
       "      <td>4.383</td>\n",
       "    </tr>\n",
       "  </tbody>\n",
       "</table>\n",
       "</div>"
      ],
      "text/plain": [
       "      resid        leaflet  X coords  Y coords  Z coords  Thickness\n",
       "4000   2001  upper leaflet    35.289    51.328     6.163      4.166\n",
       "4001   2002  upper leaflet    40.708    32.563     5.974      3.894\n",
       "4002   2003  upper leaflet    23.919    30.001     6.272      4.193\n",
       "4003   2004  upper leaflet    32.416    31.120     6.126      4.028\n",
       "4004   2005  upper leaflet    27.297     7.735     6.246      4.383"
      ]
     },
     "execution_count": 20,
     "metadata": {},
     "output_type": "execute_result"
    }
   ],
   "source": [
    "df.head()"
   ]
  },
  {
   "cell_type": "markdown",
   "metadata": {},
   "source": [
    "## Extract the $x$ and $y$ positions and local membrane thicknesses"
   ]
  },
  {
   "cell_type": "code",
   "execution_count": 21,
   "metadata": {},
   "outputs": [],
   "source": [
    "x_pos = df[\"X coords\"]\n",
    "y_pos = df[\"Y coords\"]\n",
    "thickness = df[\"Thickness\"]\n"
   ]
  },
  {
   "cell_type": "markdown",
   "metadata": {},
   "source": [
    "These values are all in nm. We will convert to Å before plotting:"
   ]
  },
  {
   "cell_type": "code",
   "execution_count": 22,
   "metadata": {},
   "outputs": [],
   "source": [
    "x_pos *= 10\n",
    "y_pos *= 10\n",
    "thickness *= 10\n"
   ]
  },
  {
   "cell_type": "markdown",
   "metadata": {},
   "source": [
    "## Plot the membrane thickness\n",
    "\n",
    "Create our plotting object:"
   ]
  },
  {
   "cell_type": "code",
   "execution_count": 23,
   "metadata": {},
   "outputs": [],
   "source": [
    "thickness_projection = ProjectionPlot(\n",
    "    x_pos=x_pos,\n",
    "    y_pos=y_pos,\n",
    "    values=thickness\n",
    ")\n",
    "    "
   ]
  },
  {
   "cell_type": "markdown",
   "metadata": {},
   "source": [
    "Determine the bins to use for the two-dimensional histogram. The thickness calculation was perfomred on the first frame only, so we will use the system dimensions at this frame to generate the bins:"
   ]
  },
  {
   "cell_type": "code",
   "execution_count": 24,
   "metadata": {},
   "outputs": [],
   "source": [
    "# load the first frame coordaintes into memory\n",
    "frame_index = -1\n",
    "u.trajectory[frame_index]  \n",
    "\n",
    "# We will create 1 x 1 Angstrom bins that covers the entire range of the system in xy\n",
    "bins = np.linspace(0, u.dimensions[0], int(np.ceil(u.dimensions[0]) + 1))\n"
   ]
  },
  {
   "cell_type": "markdown",
   "metadata": {},
   "source": [
    "As before, we will project the values onto the membrane plane, interpolate to fill in missing values, then create the plot.\n"
   ]
  },
  {
   "cell_type": "code",
   "execution_count": 25,
   "metadata": {},
   "outputs": [],
   "source": [
    "thickness_projection.project_values(bins=bins)\n",
    "thickness_projection.interpolate()\n"
   ]
  },
  {
   "cell_type": "markdown",
   "metadata": {},
   "source": [
    "We will use a range of 30 Å to 50 Å for our colourbar."
   ]
  },
  {
   "cell_type": "code",
   "execution_count": 26,
   "metadata": {},
   "outputs": [],
   "source": [
    "vmin = 30\n",
    "vmax = 50"
   ]
  },
  {
   "cell_type": "code",
   "execution_count": 27,
   "metadata": {},
   "outputs": [
    {
     "data": {
      "image/png": "[encoded data removed]",
      "text/plain": [
       "<Figure size 216x216 with 2 Axes>"
      ]
     },
     "metadata": {
      "needs_background": "light"
     },
     "output_type": "display_data"
    }
   ],
   "source": [
    "thickness_projection.plot_projection(\n",
    "    title=\"Membrane thickness\",\n",
    "    vmin=vmin,\n",
    "    vmax=vmax,\n",
    "    cbar_kws={\"shrink\":0.85, \"label\": \"Thickness (Å)\"}  # make the colourbar smaller\n",
    ")\n",
    "\n",
    "# Add sensible tick spacing to the colourbar\n",
    "thickness_projection.cbar.set_ticks(np.arange(30, 51, 5))\n"
   ]
  },
  {
   "cell_type": "markdown",
   "metadata": {},
   "source": [
    "The thickest and thinnest parts of the membrane correspond to the $L_o$ and $L_d$ regions, respectively."
   ]
  },
  {
   "cell_type": "code",
   "execution_count": null,
   "metadata": {},
   "outputs": [],
   "source": []
  }
 ],
 "metadata": {
  "kernelspec": {
   "display_name": "Python 3 (ipykernel)",
   "language": "python",
   "name": "python3"
  },
  "language_info": {
   "codemirror_mode": {
    "name": "ipython",
    "version": 3
   },
   "file_extension": ".py",
   "mimetype": "text/x-python",
   "name": "python",
   "nbconvert_exporter": "python",
   "pygments_lexer": "ipython3",
   "version": "3.10.6"
  },
  "widgets": {
   "application/vnd.jupyter.widget-state+json": {
    "state": {},
    "version_major": 2,
    "version_minor": 0
   }
  }
 },
 "nbformat": 4,
 "nbformat_minor": 4
}
