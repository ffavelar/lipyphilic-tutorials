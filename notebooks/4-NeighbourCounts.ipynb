{
 "cells": [
  {
   "cell_type": "markdown",
   "metadata": {},
   "source": [
    "# Quantifying local lipid environments\n",
    "\n",
    "The local environment of a lipid refers to the lipid composition of the patch of membrane surrounding a reference lipid. The local lipid environment can tell us whether there is a preferential aggregation of specific lipid species within a membrane.\n",
    "\n",
    "We will first look at the local environment of lipids in a DPPC, DOPC, and cholesterol membrane simulated by [Smith et al.](https://www.biorxiv.org/content/10.1101/2021.05.24.445501v3). We will later perform similar calculations for the neuronal plasma membrane studied by [Ingólfsson et al. (2017)](https://www.cell.com/biophysj/fulltext/S0006-3495(17)31132-3).\n"
   ]
  },
  {
   "cell_type": "code",
   "execution_count": 1,
   "metadata": {},
   "outputs": [],
   "source": [
    "import pathlib\n",
    "import pickle\n",
    "\n",
    "import numpy as np\n",
    "import pandas as pd\n",
    "import matplotlib.pyplot as plt\n",
    "import seaborn as sns\n",
    "\n",
    "import MDAnalysis as mda\n",
    "from lipyphilic.lib.neighbours import Neighbours\n"
   ]
  },
  {
   "cell_type": "markdown",
   "metadata": {},
   "source": [
    "## Load the topology and trajectory using MDAnalysis"
   ]
  },
  {
   "cell_type": "code",
   "execution_count": 2,
   "metadata": {},
   "outputs": [],
   "source": [
    "u = mda.Universe(\"../datafiles/dppc-dopc-chol.tpr\", \"../datafiles/dppc-dopc-chol.xtc\")"
   ]
  },
  {
   "cell_type": "markdown",
   "metadata": {},
   "source": [
    "## Generate a neighbour matrix\n",
    "\n",
    "Before we quantigy local lipid environments, we must first use **lipyphilic** to construct an adjacency matrix, $A$, that describes whether each pair of lipid molecules are neighbouring one another or not. The neighbour matrix is defined as follows:\n",
    "\n",
    "- $A_{ij}=1$ if lipid $i$ is neighbouring lipid $j$\n",
    "- $A_{ij}=0$ otherwise"
   ]
  },
  {
   "cell_type": "markdown",
   "metadata": {},
   "source": [
    "To construct the neighbour matrix, we will use the class `lipyphilic.lib.neighbours.Neighbours`."
   ]
  },
  {
   "cell_type": "code",
   "execution_count": 3,
   "metadata": {},
   "outputs": [],
   "source": [
    "neighbours = Neighbours(\n",
    "    universe=u,\n",
    "    lipid_sel=\"name GL1 GL2 ROH\",\n",
    "    cutoff=12.0\n",
    ")"
   ]
  },
  {
   "cell_type": "markdown",
   "metadata": {},
   "source": [
    "The above selection (`lipid_sel=name GL1 GL2 ROH`) will select the glycerol backbone of the phospholipids and the hydroxyl headgroup of cholesterol.\n",
    "\n",
    "A phospholipid will be considered to be neighbouring a cholesterol molecule if either its *GL1* or *GL2* bead is within *12* Å of the ROH bead of the cholesterol. For neighbouring lipids, the distances between their respective *GL1* and \"GL2* beads are be considered; that is, if two phosphoslipids have any of their glycerol backbone beads within *12* Å of one another, they will be considered neighbours.\n"
   ]
  },
  {
   "cell_type": "markdown",
   "metadata": {},
   "source": [
    "We then select which frames of the trajectory to analyse (`None` will use every frame) and select to display a progress bar (`verbose=True`):\n",
    "  "
   ]
  },
  {
   "cell_type": "code",
   "execution_count": 4,
   "metadata": {},
   "outputs": [
    {
     "data": {
      "application/vnd.jupyter.widget-view+json": {
       "model_id": "72f1b98eca134f0da8eb66b587a6ae4e",
       "version_major": 2,
       "version_minor": 0
      },
      "text/plain": [
       "  0%|          | 0/51 [00:00<?, ?it/s]"
      ]
     },
     "metadata": {},
     "output_type": "display_data"
    },
    {
     "data": {
      "text/plain": [
       "<lipyphilic.lib.neighbours.Neighbours at 0x7f89db65c5b0>"
      ]
     },
     "execution_count": 4,
     "metadata": {},
     "output_type": "execute_result"
    }
   ],
   "source": [
    "neighbours.run(\n",
    "    start=None,\n",
    "    stop=None,\n",
    "    step=None,\n",
    "    verbose=True\n",
    ")\n"
   ]
  },
  {
   "cell_type": "markdown",
   "metadata": {},
   "source": [
    "## Accessing the results"
   ]
  },
  {
   "cell_type": "markdown",
   "metadata": {},
   "source": [
    "The results are stored in the `neighbours.neighbours` attribute as a NumPy of Compressed Sparse Row matrices.\n",
    "\n",
    "There is one matrix for each frame used in the analysis:"
   ]
  },
  {
   "cell_type": "code",
   "execution_count": 5,
   "metadata": {},
   "outputs": [
    {
     "data": {
      "text/plain": [
       "51"
      ]
     },
     "execution_count": 5,
     "metadata": {},
     "output_type": "execute_result"
    }
   ],
   "source": [
    "neighbours.neighbours.size"
   ]
  },
  {
   "cell_type": "markdown",
   "metadata": {},
   "source": [
    "Let's take a look at the first frame:"
   ]
  },
  {
   "cell_type": "code",
   "execution_count": 6,
   "metadata": {},
   "outputs": [],
   "source": [
    "first_matrix = neighbours.neighbours[0]"
   ]
  },
  {
   "cell_type": "code",
   "execution_count": 7,
   "metadata": {},
   "outputs": [
    {
     "data": {
      "text/plain": [
       "<12000x12000 sparse matrix of type '<class 'numpy.int8'>'\n",
       "\twith 120930 stored elements in Compressed Sparse Row format>"
      ]
     },
     "execution_count": 7,
     "metadata": {},
     "output_type": "execute_result"
    }
   ],
   "source": [
    "first_matrix"
   ]
  },
  {
   "cell_type": "markdown",
   "metadata": {},
   "source": [
    "This is a scipy Compressed Sparse Row matrix. It has a shape of ($N_{\\rm lipids}, N_{\\rm lipids}$)\n"
   ]
  },
  {
   "cell_type": "markdown",
   "metadata": {},
   "source": [
    "We can extract pairs of neighbouring lipids as follows:"
   ]
  },
  {
   "cell_type": "code",
   "execution_count": 8,
   "metadata": {},
   "outputs": [],
   "source": [
    "reference, neighbour = first_matrix.nonzero()"
   ]
  },
  {
   "cell_type": "code",
   "execution_count": 9,
   "metadata": {},
   "outputs": [
    {
     "name": "stdout",
     "output_type": "stream",
     "text": [
      "[    0     0     0 ... 11999 11999 11999]\n"
     ]
    }
   ],
   "source": [
    "print(reference)"
   ]
  },
  {
   "cell_type": "code",
   "execution_count": 10,
   "metadata": {},
   "outputs": [
    {
     "name": "stdout",
     "output_type": "stream",
     "text": [
      "[  916  2265  3492 ... 10873 11081 11445]\n"
     ]
    }
   ],
   "source": [
    "print(neighbour)"
   ]
  },
  {
   "cell_type": "markdown",
   "metadata": {},
   "source": [
    "We see that at this first frame, the lipid with residue index 0 is neighbouring lipids 916, 2265, 3492, and so on."
   ]
  },
  {
   "cell_type": "markdown",
   "metadata": {},
   "source": [
    "## Calculating the local lipid environment"
   ]
  },
  {
   "cell_type": "markdown",
   "metadata": {},
   "source": [
    "Once we have constructed our adjacency matrices, we can use the `count_neighbours` helper method to quantify the local environment of each lipid at each frame:"
   ]
  },
  {
   "cell_type": "code",
   "execution_count": 11,
   "metadata": {},
   "outputs": [
    {
     "data": {
      "application/vnd.jupyter.widget-view+json": {
       "model_id": "8b0133e93a294bdea44453b8a10348b6",
       "version_major": 2,
       "version_minor": 0
      },
      "text/plain": [
       "  0%|          | 0/51 [00:00<?, ?it/s]"
      ]
     },
     "metadata": {},
     "output_type": "display_data"
    }
   ],
   "source": [
    "counts = neighbours.count_neighbours()\n"
   ]
  },
  {
   "cell_type": "markdown",
   "metadata": {},
   "source": [
    "`counts` is a Pandas DataFrame in which each row contains the following information:\n",
    "\n",
    "- lipid residue name\n",
    "- lipid residue index\n",
    "- frame number\n",
    "- number of cholesterol neighbours\n",
    "- number of DOPC neighbours\n",
    "- number of DPPC neighbours\n",
    "- total number of neighbours\n",
    "\n",
    "Let's take a look at the DataFrame:\n"
   ]
  },
  {
   "cell_type": "code",
   "execution_count": 12,
   "metadata": {},
   "outputs": [
    {
     "data": {
      "text/html": [
       "<div>\n",
       "<style scoped>\n",
       "    .dataframe tbody tr th:only-of-type {\n",
       "        vertical-align: middle;\n",
       "    }\n",
       "\n",
       "    .dataframe tbody tr th {\n",
       "        vertical-align: top;\n",
       "    }\n",
       "\n",
       "    .dataframe thead th {\n",
       "        text-align: right;\n",
       "    }\n",
       "</style>\n",
       "<table border=\"1\" class=\"dataframe\">\n",
       "  <thead>\n",
       "    <tr style=\"text-align: right;\">\n",
       "      <th></th>\n",
       "      <th>Label</th>\n",
       "      <th>Resindex</th>\n",
       "      <th>Frame</th>\n",
       "      <th>nCHOL</th>\n",
       "      <th>nDOPC</th>\n",
       "      <th>nDPPC</th>\n",
       "      <th>Total</th>\n",
       "    </tr>\n",
       "  </thead>\n",
       "  <tbody>\n",
       "    <tr>\n",
       "      <th>0</th>\n",
       "      <td>CHOL</td>\n",
       "      <td>0</td>\n",
       "      <td>0</td>\n",
       "      <td>3</td>\n",
       "      <td>3</td>\n",
       "      <td>4</td>\n",
       "      <td>10</td>\n",
       "    </tr>\n",
       "    <tr>\n",
       "      <th>1</th>\n",
       "      <td>CHOL</td>\n",
       "      <td>0</td>\n",
       "      <td>1</td>\n",
       "      <td>5</td>\n",
       "      <td>4</td>\n",
       "      <td>4</td>\n",
       "      <td>13</td>\n",
       "    </tr>\n",
       "    <tr>\n",
       "      <th>2</th>\n",
       "      <td>CHOL</td>\n",
       "      <td>0</td>\n",
       "      <td>2</td>\n",
       "      <td>4</td>\n",
       "      <td>3</td>\n",
       "      <td>4</td>\n",
       "      <td>11</td>\n",
       "    </tr>\n",
       "    <tr>\n",
       "      <th>3</th>\n",
       "      <td>CHOL</td>\n",
       "      <td>0</td>\n",
       "      <td>3</td>\n",
       "      <td>3</td>\n",
       "      <td>3</td>\n",
       "      <td>3</td>\n",
       "      <td>9</td>\n",
       "    </tr>\n",
       "    <tr>\n",
       "      <th>4</th>\n",
       "      <td>CHOL</td>\n",
       "      <td>0</td>\n",
       "      <td>4</td>\n",
       "      <td>4</td>\n",
       "      <td>3</td>\n",
       "      <td>6</td>\n",
       "      <td>13</td>\n",
       "    </tr>\n",
       "    <tr>\n",
       "      <th>...</th>\n",
       "      <td>...</td>\n",
       "      <td>...</td>\n",
       "      <td>...</td>\n",
       "      <td>...</td>\n",
       "      <td>...</td>\n",
       "      <td>...</td>\n",
       "      <td>...</td>\n",
       "    </tr>\n",
       "    <tr>\n",
       "      <th>611995</th>\n",
       "      <td>DPPC</td>\n",
       "      <td>11999</td>\n",
       "      <td>46</td>\n",
       "      <td>6</td>\n",
       "      <td>3</td>\n",
       "      <td>4</td>\n",
       "      <td>13</td>\n",
       "    </tr>\n",
       "    <tr>\n",
       "      <th>611996</th>\n",
       "      <td>DPPC</td>\n",
       "      <td>11999</td>\n",
       "      <td>47</td>\n",
       "      <td>5</td>\n",
       "      <td>3</td>\n",
       "      <td>3</td>\n",
       "      <td>11</td>\n",
       "    </tr>\n",
       "    <tr>\n",
       "      <th>611997</th>\n",
       "      <td>DPPC</td>\n",
       "      <td>11999</td>\n",
       "      <td>48</td>\n",
       "      <td>5</td>\n",
       "      <td>5</td>\n",
       "      <td>3</td>\n",
       "      <td>13</td>\n",
       "    </tr>\n",
       "    <tr>\n",
       "      <th>611998</th>\n",
       "      <td>DPPC</td>\n",
       "      <td>11999</td>\n",
       "      <td>49</td>\n",
       "      <td>5</td>\n",
       "      <td>3</td>\n",
       "      <td>4</td>\n",
       "      <td>12</td>\n",
       "    </tr>\n",
       "    <tr>\n",
       "      <th>611999</th>\n",
       "      <td>DPPC</td>\n",
       "      <td>11999</td>\n",
       "      <td>50</td>\n",
       "      <td>5</td>\n",
       "      <td>5</td>\n",
       "      <td>4</td>\n",
       "      <td>14</td>\n",
       "    </tr>\n",
       "  </tbody>\n",
       "</table>\n",
       "<p>612000 rows × 7 columns</p>\n",
       "</div>"
      ],
      "text/plain": [
       "       Label  Resindex  Frame  nCHOL  nDOPC  nDPPC  Total\n",
       "0       CHOL         0      0      3      3      4     10\n",
       "1       CHOL         0      1      5      4      4     13\n",
       "2       CHOL         0      2      4      3      4     11\n",
       "3       CHOL         0      3      3      3      3      9\n",
       "4       CHOL         0      4      4      3      6     13\n",
       "...      ...       ...    ...    ...    ...    ...    ...\n",
       "611995  DPPC     11999     46      6      3      4     13\n",
       "611996  DPPC     11999     47      5      3      3     11\n",
       "611997  DPPC     11999     48      5      5      3     13\n",
       "611998  DPPC     11999     49      5      3      4     12\n",
       "611999  DPPC     11999     50      5      5      4     14\n",
       "\n",
       "[612000 rows x 7 columns]"
      ]
     },
     "execution_count": 12,
     "metadata": {},
     "output_type": "execute_result"
    }
   ],
   "source": [
    "counts"
   ]
  },
  {
   "cell_type": "markdown",
   "metadata": {},
   "source": [
    "We see that at the first frame, the first cholesterol molecule (residue index 0) has:\n",
    "- 3 cholesterol neighbours\n",
    "- 3 DOPC neighbours\n",
    "- 4 DPPC neighbours\n",
    "- 10 neighbours in total\n"
   ]
  },
  {
   "cell_type": "markdown",
   "metadata": {},
   "source": [
    "## Store the reuslts\n",
    "There are a couple of ways of storing the results from the analysis."
   ]
  },
  {
   "cell_type": "markdown",
   "metadata": {},
   "source": [
    "We'll store the results in the following directory:"
   ]
  },
  {
   "cell_type": "code",
   "execution_count": 13,
   "metadata": {},
   "outputs": [],
   "source": [
    "results_directory = pathlib.Path(\n",
    "    \"../results/neighbours\"\n",
    ")\n",
    "\n",
    "# Create the directory if it doesn't already exist\n",
    "results_directory.resolve().mkdir(exist_ok=True, parents=True)\n"
   ]
  },
  {
   "cell_type": "markdown",
   "metadata": {},
   "source": [
    "1. You can persist the `Neighbours` object using pickle"
   ]
  },
  {
   "cell_type": "code",
   "execution_count": 14,
   "metadata": {},
   "outputs": [
    {
     "name": "stdout",
     "output_type": "stream",
     "text": [
      "../results/neighbours/neighbours-dppc-dopc-chol.pkl\n"
     ]
    }
   ],
   "source": [
    "# Location to store the results\n",
    "filename = results_directory.joinpath(\"neighbours-dppc-dopc-chol.pkl\")\n",
    "print(filename)"
   ]
  },
  {
   "cell_type": "code",
   "execution_count": 15,
   "metadata": {},
   "outputs": [],
   "source": [
    "# store the object\n",
    "with open(filename, 'wb') as f:\n",
    "    pickle.dump(neighbours, f)\n",
    "    "
   ]
  },
  {
   "cell_type": "code",
   "execution_count": 16,
   "metadata": {},
   "outputs": [],
   "source": [
    "# load for later usage\n",
    "with open(filename, 'rb') as f:\n",
    "    neighbours = pickle.load(f)\n"
   ]
  },
  {
   "cell_type": "markdown",
   "metadata": {},
   "source": [
    "2. You store the pandas DataFrame of the local lipid environment"
   ]
  },
  {
   "cell_type": "code",
   "execution_count": 17,
   "metadata": {},
   "outputs": [
    {
     "name": "stdout",
     "output_type": "stream",
     "text": [
      "../results/neighbours/neighbour-counts-dppc-dopc-chol.h5\n"
     ]
    }
   ],
   "source": [
    "# Location to store the results\n",
    "filename = results_directory.joinpath(\"neighbour-counts-dppc-dopc-chol.h5\")\n",
    "print(filename)"
   ]
  },
  {
   "cell_type": "code",
   "execution_count": 18,
   "metadata": {},
   "outputs": [],
   "source": [
    "# store the counts DataFrame\n",
    "counts.to_hdf(\n",
    "    filename,\n",
    "    key='df',\n",
    "    mode='w'\n",
    ")\n"
   ]
  },
  {
   "cell_type": "code",
   "execution_count": 19,
   "metadata": {},
   "outputs": [],
   "source": [
    "# load for later usage\n",
    "counts = pd.read_hdf(filename)\n"
   ]
  },
  {
   "cell_type": "markdown",
   "metadata": {},
   "source": [
    "# Lipid enrichment/depletion index\n",
    "\n",
    "The `count_neighbours` method will, by default, return the number of neighbouring lipid species around each individual lipid.\n",
    "\n",
    "However, a clearer picture of aggregation of certain lipid species can be gained by instead considering the [enrichment/depletion index](https://pubs.acs.org/doi/10.1021/ja507832e) of each lipid species. \n",
    "\n",
    "The lipid enrichment index of species $B$ around species $A$, $E_{AB}$, may be defined as:\n",
    "$$\n",
    "E_{AB} = N_{AB} / \\langle N_B \\rangle\n",
    "$$\n",
    "\n",
    "where $N_{AB}$ is the number of molecules of species $B$ around species $A$, and $\\langle N_B \\rangle$ is the mean number of species $B$ around any species."
   ]
  },
  {
   "cell_type": "markdown",
   "metadata": {},
   "source": [
    "To calculate the enrichment/depletion index of each species at each frame, as well as the raw neighbour counts, we can set the `return_enrichment` keyword to `True` when we call `count_neighbours`:"
   ]
  },
  {
   "cell_type": "code",
   "execution_count": 20,
   "metadata": {},
   "outputs": [
    {
     "data": {
      "application/vnd.jupyter.widget-view+json": {
       "model_id": "98208caf113247baa1b5af74cfd90ddf",
       "version_major": 2,
       "version_minor": 0
      },
      "text/plain": [
       "  0%|          | 0/51 [00:00<?, ?it/s]"
      ]
     },
     "metadata": {},
     "output_type": "display_data"
    }
   ],
   "source": [
    "counts, enrichment = neighbours.count_neighbours(return_enrichment=True)"
   ]
  },
  {
   "cell_type": "markdown",
   "metadata": {},
   "source": [
    "This will return two Pandas DataFrames, one containing the neighbour counts and the other the enrichment/depletion index of each species at each frame. \n",
    "\n",
    "`enrichment` contains the following information for each row:\n",
    "\n",
    "- lipid species\n",
    "- frame number\n",
    "- enrichment of cholesterol\n",
    "- enrichment of DOPC\n",
    "- enrichment of DPPC\n",
    "\n",
    "Let's take a look at the DataFrame:\n"
   ]
  },
  {
   "cell_type": "code",
   "execution_count": 21,
   "metadata": {},
   "outputs": [
    {
     "data": {
      "text/html": [
       "<div>\n",
       "<style scoped>\n",
       "    .dataframe tbody tr th:only-of-type {\n",
       "        vertical-align: middle;\n",
       "    }\n",
       "\n",
       "    .dataframe tbody tr th {\n",
       "        vertical-align: top;\n",
       "    }\n",
       "\n",
       "    .dataframe thead th {\n",
       "        text-align: right;\n",
       "    }\n",
       "</style>\n",
       "<table border=\"1\" class=\"dataframe\">\n",
       "  <thead>\n",
       "    <tr style=\"text-align: right;\">\n",
       "      <th></th>\n",
       "      <th>Label</th>\n",
       "      <th>Frame</th>\n",
       "      <th>feCHOL</th>\n",
       "      <th>feDOPC</th>\n",
       "      <th>feDPPC</th>\n",
       "    </tr>\n",
       "  </thead>\n",
       "  <tbody>\n",
       "    <tr>\n",
       "      <th>0</th>\n",
       "      <td>CHOL</td>\n",
       "      <td>0</td>\n",
       "      <td>0.859953</td>\n",
       "      <td>0.934876</td>\n",
       "      <td>1.010086</td>\n",
       "    </tr>\n",
       "    <tr>\n",
       "      <th>1</th>\n",
       "      <td>CHOL</td>\n",
       "      <td>1</td>\n",
       "      <td>0.855300</td>\n",
       "      <td>0.937632</td>\n",
       "      <td>1.009027</td>\n",
       "    </tr>\n",
       "    <tr>\n",
       "      <th>2</th>\n",
       "      <td>CHOL</td>\n",
       "      <td>2</td>\n",
       "      <td>0.867951</td>\n",
       "      <td>0.934240</td>\n",
       "      <td>1.008378</td>\n",
       "    </tr>\n",
       "    <tr>\n",
       "      <th>3</th>\n",
       "      <td>CHOL</td>\n",
       "      <td>3</td>\n",
       "      <td>0.861744</td>\n",
       "      <td>0.939086</td>\n",
       "      <td>1.011233</td>\n",
       "    </tr>\n",
       "    <tr>\n",
       "      <th>4</th>\n",
       "      <td>CHOL</td>\n",
       "      <td>4</td>\n",
       "      <td>0.855374</td>\n",
       "      <td>0.938745</td>\n",
       "      <td>1.007719</td>\n",
       "    </tr>\n",
       "    <tr>\n",
       "      <th>...</th>\n",
       "      <td>...</td>\n",
       "      <td>...</td>\n",
       "      <td>...</td>\n",
       "      <td>...</td>\n",
       "      <td>...</td>\n",
       "    </tr>\n",
       "    <tr>\n",
       "      <th>148</th>\n",
       "      <td>DPPC</td>\n",
       "      <td>46</td>\n",
       "      <td>1.150928</td>\n",
       "      <td>0.981446</td>\n",
       "      <td>1.080921</td>\n",
       "    </tr>\n",
       "    <tr>\n",
       "      <th>149</th>\n",
       "      <td>DPPC</td>\n",
       "      <td>47</td>\n",
       "      <td>1.151835</td>\n",
       "      <td>0.988319</td>\n",
       "      <td>1.079786</td>\n",
       "    </tr>\n",
       "    <tr>\n",
       "      <th>150</th>\n",
       "      <td>DPPC</td>\n",
       "      <td>48</td>\n",
       "      <td>1.145993</td>\n",
       "      <td>0.983084</td>\n",
       "      <td>1.086685</td>\n",
       "    </tr>\n",
       "    <tr>\n",
       "      <th>151</th>\n",
       "      <td>DPPC</td>\n",
       "      <td>49</td>\n",
       "      <td>1.152031</td>\n",
       "      <td>0.987859</td>\n",
       "      <td>1.079485</td>\n",
       "    </tr>\n",
       "    <tr>\n",
       "      <th>152</th>\n",
       "      <td>DPPC</td>\n",
       "      <td>50</td>\n",
       "      <td>1.156368</td>\n",
       "      <td>0.991640</td>\n",
       "      <td>1.075859</td>\n",
       "    </tr>\n",
       "  </tbody>\n",
       "</table>\n",
       "<p>153 rows × 5 columns</p>\n",
       "</div>"
      ],
      "text/plain": [
       "    Label  Frame    feCHOL    feDOPC    feDPPC\n",
       "0    CHOL      0  0.859953  0.934876  1.010086\n",
       "1    CHOL      1  0.855300  0.937632  1.009027\n",
       "2    CHOL      2  0.867951  0.934240  1.008378\n",
       "3    CHOL      3  0.861744  0.939086  1.011233\n",
       "4    CHOL      4  0.855374  0.938745  1.007719\n",
       "..    ...    ...       ...       ...       ...\n",
       "148  DPPC     46  1.150928  0.981446  1.080921\n",
       "149  DPPC     47  1.151835  0.988319  1.079786\n",
       "150  DPPC     48  1.145993  0.983084  1.086685\n",
       "151  DPPC     49  1.152031  0.987859  1.079485\n",
       "152  DPPC     50  1.156368  0.991640  1.075859\n",
       "\n",
       "[153 rows x 5 columns]"
      ]
     },
     "execution_count": 21,
     "metadata": {},
     "output_type": "execute_result"
    }
   ],
   "source": [
    "enrichment"
   ]
  },
  {
   "cell_type": "markdown",
   "metadata": {},
   "source": [
    "**Values:**\n",
    "- **below 1 correspond to depletion**\n",
    "- **above 1 correspond to enrichment**\n"
   ]
  },
  {
   "cell_type": "markdown",
   "metadata": {},
   "source": [
    "We see that at the first frame, the local environment of cholesterol is:\n",
    "- depleted of cholesterol and DOPC\n",
    "- enriched in DPPC\n",
    "\n",
    "At the final frame, the local lipid environment of DPPC is:\n",
    "- enriched in cholesterol and DPPC\n",
    "- slightly depleted of DOPC\n"
   ]
  },
  {
   "cell_type": "markdown",
   "metadata": {},
   "source": [
    "## Plot the enrichment over time"
   ]
  },
  {
   "cell_type": "markdown",
   "metadata": {},
   "source": [
    "As we know the enrichment at each frame, we can plot the time-evolution of the enrichment/depletion index to see whether particular species form aggregates over time.\n"
   ]
  },
  {
   "cell_type": "markdown",
   "metadata": {},
   "source": [
    "### Plotting with Pandas"
   ]
  },
  {
   "cell_type": "code",
   "execution_count": 22,
   "metadata": {},
   "outputs": [],
   "source": [
    "# Get a list of the species in the membrane\n",
    "unique_labels = counts.Label.unique()"
   ]
  },
  {
   "cell_type": "code",
   "execution_count": 23,
   "metadata": {},
   "outputs": [
    {
     "data": {
      "image/png": "[encoded data removed]",
      "text/plain": [
       "<Figure size 432x288 with 1 Axes>"
      ]
     },
     "metadata": {
      "needs_background": "light"
     },
     "output_type": "display_data"
    },
    {
     "data": {
      "image/png": "[encoded data removed]",
      "text/plain": [
       "<Figure size 432x288 with 1 Axes>"
      ]
     },
     "metadata": {
      "needs_background": "light"
     },
     "output_type": "display_data"
    },
    {
     "data": {
      "image/png": "[encoded data removed]",
      "text/plain": [
       "<Figure size 432x288 with 1 Axes>"
      ]
     },
     "metadata": {
      "needs_background": "light"
     },
     "output_type": "display_data"
    }
   ],
   "source": [
    "# iterate over each species\n",
    "for ref in unique_labels:\n",
    "    \n",
    "    # get the enrichment of the current species\n",
    "    species_fe = enrichment.loc[enrichment.Label == ref].copy()\n",
    "    \n",
    "    # For plotting, we need to know the times used in the analysis\n",
    "    ps_to_microseconds = 1e-6\n",
    "    species_fe[\"Time\"] = species_fe[\"Frame\"].values * neighbours._trajectory.dt * ps_to_microseconds\n",
    "    \n",
    "    # For the current species, plot the enrichment of each other species over time\n",
    "    species_fe.plot.line(\n",
    "        x=r\"Time\",\n",
    "        y=[f\"fe{l}\" for l in unique_labels],\n",
    "        xlabel=r\"Time ($\\rm \\mu s$)\",\n",
    "        ylabel=\"Enrichment\"\n",
    "    )\n",
    "    \n",
    "    # Add label info\n",
    "    plt.title(f\"Reference: {ref}\", loc=\"left\", weight=\"bold\")\n",
    "    plt.legend(unique_labels, loc=\"lower left\", bbox_to_anchor=(1.01, 0.0), frameon=False, title=\"Neighbour\")\n",
    "    \n",
    "    plt.hlines(y=1.0, xmin=0, xmax=0.25, linestyle=\"--\", color=\"xkcd:grey\", alpha=0.8)\n",
    "    plt.show()\n",
    "    "
   ]
  },
  {
   "cell_type": "markdown",
   "metadata": {},
   "source": [
    "The trajectory we are using is a 250 ns time period from 7.75 µs to 8.0 µs. By this point, cholesterol and DPPC have demixed somewhat from DOPC, whilst DOPC has self-aggregated."
   ]
  },
  {
   "cell_type": "markdown",
   "metadata": {},
   "source": [
    "# Counting the number of $L_d$ or $L_o$ neighbours\n",
    "\n",
    "Instead of using the lipid resname to identify neighbouring lipids, any ordinal data may be used for counting lipid neighbours. This is done through use of the `count_by` and `count_by_labels` parameters.\n",
    "\n",
    "[In another tutorial](HiddenMarkovModel.ipynb), we construct a hidden Markov model based on lipid thicknesses in order to determine whether each lipid in each frame is liquid-ordered ($L_o$) or liquid-disordered ($L_d$). We will use this information here in order to quantify to local lipid environments.\n"
   ]
  },
  {
   "cell_type": "code",
   "execution_count": 24,
   "metadata": {},
   "outputs": [],
   "source": [
    "# Load the lipid order data\n",
    "filename = \"../results/HMM/lipid-order.npy\"\n",
    "lipid_order = np.load(filename)\n"
   ]
  },
  {
   "cell_type": "markdown",
   "metadata": {},
   "source": [
    "`lipid_order` is a two-dimensional NumPy. Like many analyses in **lipyphilic**, the array is of shape ($N_{\\rm lipids}$, $N_{\\rm lipids}$) The:\n",
    "\n",
    "- rows correspond to individual lipids\n",
    "- columns correspond to individual frames.\n",
    "\n",
    "In the array, the ordered state of each lipid is defined as follows:\n",
    "\n",
    "- values of 1 indicate the lipid is in the $L_o$ state\n",
    "- values of -1 indicate the lipid is in the $L_d$ state\n",
    "\n",
    "Let's look at the array:\n"
   ]
  },
  {
   "cell_type": "code",
   "execution_count": 25,
   "metadata": {},
   "outputs": [
    {
     "data": {
      "text/plain": [
       "array([[ 1,  1,  1, ...,  1,  1,  1],\n",
       "       [ 1,  1,  1, ..., -1, -1, -1],\n",
       "       [ 1,  1,  1, ...,  1,  1,  1],\n",
       "       ...,\n",
       "       [ 1,  1,  1, ...,  1,  1,  1],\n",
       "       [-1, -1, -1, ..., -1, -1, -1],\n",
       "       [ 1,  1,  1, ...,  1,  1,  1]], dtype=int8)"
      ]
     },
     "execution_count": 25,
     "metadata": {},
     "output_type": "execute_result"
    }
   ],
   "source": [
    "lipid_order"
   ]
  },
  {
   "cell_type": "markdown",
   "metadata": {},
   "source": [
    "We see the first lipid (first row) is $L_o$ both at the beginning and end of the frames used in the analysis.\n",
    "\n",
    "The second lipid (second row) is $L_o$ at the beginning of the analysis but $L_d$ at the end.\n",
    "\n"
   ]
  },
  {
   "cell_type": "markdown",
   "metadata": {},
   "source": [
    "## Pass the lipid order data to `count_neighbours`\n",
    "\n",
    "Because `lipid_order` has shape $N_{\\rm lipids}$, $N_{\\rm lipids}$, we can pass this NumPy as input to `count_neighbours`. `count_neighbours` will then use the lipid order data to define local lipid environments:\n"
   ]
  },
  {
   "cell_type": "code",
   "execution_count": 26,
   "metadata": {},
   "outputs": [
    {
     "data": {
      "application/vnd.jupyter.widget-view+json": {
       "model_id": "342dcb9a6fde4753bd5abb752427f12f",
       "version_major": 2,
       "version_minor": 0
      },
      "text/plain": [
       "  0%|          | 0/51 [00:00<?, ?it/s]"
      ]
     },
     "metadata": {},
     "output_type": "display_data"
    }
   ],
   "source": [
    "counts = neighbours.count_neighbours(\n",
    "    count_by=lipid_order,\n",
    "    count_by_labels={'Ld': -1, 'Lo': 1}  # tell count_neighbours that -1 and 1 correspond to Ld and Lo respectively\n",
    ")"
   ]
  },
  {
   "cell_type": "markdown",
   "metadata": {},
   "source": [
    "As before, `counts` is a Pandas DataFrame.\n",
    "\n",
    "However, this time, each row contains the following information:\n",
    "\n",
    "- lipid order ($L_d$ or $L_o$)\n",
    "- lipid residue index\n",
    "- frame number\n",
    "- number of $L_d$ neighbours\n",
    "- number of $L_o$ neighbours\n",
    "\n",
    "Let's take a look at the DataFrame:\n",
    "\n",
    "    "
   ]
  },
  {
   "cell_type": "code",
   "execution_count": 27,
   "metadata": {},
   "outputs": [
    {
     "data": {
      "text/html": [
       "<div>\n",
       "<style scoped>\n",
       "    .dataframe tbody tr th:only-of-type {\n",
       "        vertical-align: middle;\n",
       "    }\n",
       "\n",
       "    .dataframe tbody tr th {\n",
       "        vertical-align: top;\n",
       "    }\n",
       "\n",
       "    .dataframe thead th {\n",
       "        text-align: right;\n",
       "    }\n",
       "</style>\n",
       "<table border=\"1\" class=\"dataframe\">\n",
       "  <thead>\n",
       "    <tr style=\"text-align: right;\">\n",
       "      <th></th>\n",
       "      <th>Label</th>\n",
       "      <th>Resindex</th>\n",
       "      <th>Frame</th>\n",
       "      <th>nLd</th>\n",
       "      <th>nLo</th>\n",
       "      <th>Total</th>\n",
       "    </tr>\n",
       "  </thead>\n",
       "  <tbody>\n",
       "    <tr>\n",
       "      <th>0</th>\n",
       "      <td>Lo</td>\n",
       "      <td>0</td>\n",
       "      <td>0</td>\n",
       "      <td>3</td>\n",
       "      <td>7</td>\n",
       "      <td>10</td>\n",
       "    </tr>\n",
       "    <tr>\n",
       "      <th>1</th>\n",
       "      <td>Lo</td>\n",
       "      <td>0</td>\n",
       "      <td>1</td>\n",
       "      <td>4</td>\n",
       "      <td>9</td>\n",
       "      <td>13</td>\n",
       "    </tr>\n",
       "    <tr>\n",
       "      <th>2</th>\n",
       "      <td>Lo</td>\n",
       "      <td>0</td>\n",
       "      <td>2</td>\n",
       "      <td>3</td>\n",
       "      <td>8</td>\n",
       "      <td>11</td>\n",
       "    </tr>\n",
       "    <tr>\n",
       "      <th>3</th>\n",
       "      <td>Lo</td>\n",
       "      <td>0</td>\n",
       "      <td>3</td>\n",
       "      <td>2</td>\n",
       "      <td>7</td>\n",
       "      <td>9</td>\n",
       "    </tr>\n",
       "    <tr>\n",
       "      <th>4</th>\n",
       "      <td>Lo</td>\n",
       "      <td>0</td>\n",
       "      <td>4</td>\n",
       "      <td>3</td>\n",
       "      <td>10</td>\n",
       "      <td>13</td>\n",
       "    </tr>\n",
       "    <tr>\n",
       "      <th>...</th>\n",
       "      <td>...</td>\n",
       "      <td>...</td>\n",
       "      <td>...</td>\n",
       "      <td>...</td>\n",
       "      <td>...</td>\n",
       "      <td>...</td>\n",
       "    </tr>\n",
       "    <tr>\n",
       "      <th>611995</th>\n",
       "      <td>Lo</td>\n",
       "      <td>11999</td>\n",
       "      <td>46</td>\n",
       "      <td>1</td>\n",
       "      <td>12</td>\n",
       "      <td>13</td>\n",
       "    </tr>\n",
       "    <tr>\n",
       "      <th>611996</th>\n",
       "      <td>Lo</td>\n",
       "      <td>11999</td>\n",
       "      <td>47</td>\n",
       "      <td>0</td>\n",
       "      <td>11</td>\n",
       "      <td>11</td>\n",
       "    </tr>\n",
       "    <tr>\n",
       "      <th>611997</th>\n",
       "      <td>Lo</td>\n",
       "      <td>11999</td>\n",
       "      <td>48</td>\n",
       "      <td>1</td>\n",
       "      <td>12</td>\n",
       "      <td>13</td>\n",
       "    </tr>\n",
       "    <tr>\n",
       "      <th>611998</th>\n",
       "      <td>Lo</td>\n",
       "      <td>11999</td>\n",
       "      <td>49</td>\n",
       "      <td>1</td>\n",
       "      <td>11</td>\n",
       "      <td>12</td>\n",
       "    </tr>\n",
       "    <tr>\n",
       "      <th>611999</th>\n",
       "      <td>Lo</td>\n",
       "      <td>11999</td>\n",
       "      <td>50</td>\n",
       "      <td>1</td>\n",
       "      <td>13</td>\n",
       "      <td>14</td>\n",
       "    </tr>\n",
       "  </tbody>\n",
       "</table>\n",
       "<p>612000 rows × 6 columns</p>\n",
       "</div>"
      ],
      "text/plain": [
       "       Label  Resindex  Frame  nLd  nLo  Total\n",
       "0         Lo         0      0    3    7     10\n",
       "1         Lo         0      1    4    9     13\n",
       "2         Lo         0      2    3    8     11\n",
       "3         Lo         0      3    2    7      9\n",
       "4         Lo         0      4    3   10     13\n",
       "...      ...       ...    ...  ...  ...    ...\n",
       "611995    Lo     11999     46    1   12     13\n",
       "611996    Lo     11999     47    0   11     11\n",
       "611997    Lo     11999     48    1   12     13\n",
       "611998    Lo     11999     49    1   11     12\n",
       "611999    Lo     11999     50    1   13     14\n",
       "\n",
       "[612000 rows x 6 columns]"
      ]
     },
     "execution_count": 27,
     "metadata": {},
     "output_type": "execute_result"
    }
   ],
   "source": [
    "counts"
   ]
  },
  {
   "cell_type": "markdown",
   "metadata": {},
   "source": [
    "At the first frame, the lipid with residue index 0 is in the $L_o$ state. It has 3 $L_d$, neighbours, 7 $L_o$ neighbours, and 10 neighbours in total."
   ]
  },
  {
   "cell_type": "markdown",
   "metadata": {},
   "source": [
    "## Enrichment/depletion of $L_d$ or $L_o$ lipids"
   ]
  },
  {
   "cell_type": "markdown",
   "metadata": {},
   "source": [
    "As before, we can set `return_enrichment=True` to obtain the enrichment at each frame:"
   ]
  },
  {
   "cell_type": "code",
   "execution_count": 28,
   "metadata": {},
   "outputs": [
    {
     "data": {
      "application/vnd.jupyter.widget-view+json": {
       "model_id": "a04a030a7da24444b86eb0f12f73f5c1",
       "version_major": 2,
       "version_minor": 0
      },
      "text/plain": [
       "  0%|          | 0/51 [00:00<?, ?it/s]"
      ]
     },
     "metadata": {},
     "output_type": "display_data"
    }
   ],
   "source": [
    "counts, enrichment = neighbours.count_neighbours(\n",
    "    count_by=lipid_order,\n",
    "    count_by_labels={'Ld': -1, 'Lo': 1},  # tell count_neighbours that -1 and 1 correspond to Ld and Lo respectively\n",
    "    return_enrichment=True\n",
    ")"
   ]
  },
  {
   "cell_type": "markdown",
   "metadata": {},
   "source": [
    "`enrichment` is a Pandas Dataframe that contains the enrichment/depletion index of each ordered state.\n",
    "\n",
    "`enrichment` contains the following information for each row:\n",
    "\n",
    "- lipid order ($L_d$ or $L_o$)\n",
    "- frame number\n",
    "- enrichment of $L_d$\n",
    "- depletion of $L_o$\n"
   ]
  },
  {
   "cell_type": "code",
   "execution_count": 29,
   "metadata": {},
   "outputs": [
    {
     "data": {
      "text/html": [
       "<div>\n",
       "<style scoped>\n",
       "    .dataframe tbody tr th:only-of-type {\n",
       "        vertical-align: middle;\n",
       "    }\n",
       "\n",
       "    .dataframe tbody tr th {\n",
       "        vertical-align: top;\n",
       "    }\n",
       "\n",
       "    .dataframe thead th {\n",
       "        text-align: right;\n",
       "    }\n",
       "</style>\n",
       "<table border=\"1\" class=\"dataframe\">\n",
       "  <thead>\n",
       "    <tr style=\"text-align: right;\">\n",
       "      <th></th>\n",
       "      <th>Label</th>\n",
       "      <th>Frame</th>\n",
       "      <th>feLd</th>\n",
       "      <th>feLo</th>\n",
       "    </tr>\n",
       "  </thead>\n",
       "  <tbody>\n",
       "    <tr>\n",
       "      <th>0</th>\n",
       "      <td>Ld</td>\n",
       "      <td>0</td>\n",
       "      <td>1.640676</td>\n",
       "      <td>0.277070</td>\n",
       "    </tr>\n",
       "    <tr>\n",
       "      <th>1</th>\n",
       "      <td>Ld</td>\n",
       "      <td>1</td>\n",
       "      <td>1.650601</td>\n",
       "      <td>0.274862</td>\n",
       "    </tr>\n",
       "    <tr>\n",
       "      <th>2</th>\n",
       "      <td>Ld</td>\n",
       "      <td>2</td>\n",
       "      <td>1.665972</td>\n",
       "      <td>0.268376</td>\n",
       "    </tr>\n",
       "    <tr>\n",
       "      <th>3</th>\n",
       "      <td>Ld</td>\n",
       "      <td>3</td>\n",
       "      <td>1.691819</td>\n",
       "      <td>0.254275</td>\n",
       "    </tr>\n",
       "    <tr>\n",
       "      <th>4</th>\n",
       "      <td>Ld</td>\n",
       "      <td>4</td>\n",
       "      <td>1.708444</td>\n",
       "      <td>0.244885</td>\n",
       "    </tr>\n",
       "    <tr>\n",
       "      <th>...</th>\n",
       "      <td>...</td>\n",
       "      <td>...</td>\n",
       "      <td>...</td>\n",
       "      <td>...</td>\n",
       "    </tr>\n",
       "    <tr>\n",
       "      <th>97</th>\n",
       "      <td>Lo</td>\n",
       "      <td>46</td>\n",
       "      <td>0.292695</td>\n",
       "      <td>1.741305</td>\n",
       "    </tr>\n",
       "    <tr>\n",
       "      <th>98</th>\n",
       "      <td>Lo</td>\n",
       "      <td>47</td>\n",
       "      <td>0.304764</td>\n",
       "      <td>1.743736</td>\n",
       "    </tr>\n",
       "    <tr>\n",
       "      <th>99</th>\n",
       "      <td>Lo</td>\n",
       "      <td>48</td>\n",
       "      <td>0.309728</td>\n",
       "      <td>1.746055</td>\n",
       "    </tr>\n",
       "    <tr>\n",
       "      <th>100</th>\n",
       "      <td>Lo</td>\n",
       "      <td>49</td>\n",
       "      <td>0.315786</td>\n",
       "      <td>1.746665</td>\n",
       "    </tr>\n",
       "    <tr>\n",
       "      <th>101</th>\n",
       "      <td>Lo</td>\n",
       "      <td>50</td>\n",
       "      <td>0.320641</td>\n",
       "      <td>1.745883</td>\n",
       "    </tr>\n",
       "  </tbody>\n",
       "</table>\n",
       "<p>102 rows × 4 columns</p>\n",
       "</div>"
      ],
      "text/plain": [
       "    Label  Frame      feLd      feLo\n",
       "0      Ld      0  1.640676  0.277070\n",
       "1      Ld      1  1.650601  0.274862\n",
       "2      Ld      2  1.665972  0.268376\n",
       "3      Ld      3  1.691819  0.254275\n",
       "4      Ld      4  1.708444  0.244885\n",
       "..    ...    ...       ...       ...\n",
       "97     Lo     46  0.292695  1.741305\n",
       "98     Lo     47  0.304764  1.743736\n",
       "99     Lo     48  0.309728  1.746055\n",
       "100    Lo     49  0.315786  1.746665\n",
       "101    Lo     50  0.320641  1.745883\n",
       "\n",
       "[102 rows x 4 columns]"
      ]
     },
     "execution_count": 29,
     "metadata": {},
     "output_type": "execute_result"
    }
   ],
   "source": [
    "enrichment"
   ]
  },
  {
   "cell_type": "markdown",
   "metadata": {},
   "source": [
    "# More complex mixtures\n",
    "\n",
    "The construction of the neighbour matrix, and quantification of local lipid environments, makes use of the powerful selection language of MDAnalysis. This means local lipid environments can readily be calculated even for membranes with highly complex compositions.\n",
    "\n",
    "Below we will quantigy to local lipid environment for each species in the 58-component neuronal plasma membrane studied by [Ingólfsson et al. (2017)](https://www.cell.com/biophysj/fulltext/S0006-3495(17)31132-3).\n"
   ]
  },
  {
   "cell_type": "code",
   "execution_count": 30,
   "metadata": {},
   "outputs": [
    {
     "name": "stderr",
     "output_type": "stream",
     "text": [
      "/home/paul/git-repos/mdanalysis/package/MDAnalysis/topology/guessers.py:146: UserWarning: Failed to guess the mass for the following atom types: A\n",
      "  warnings.warn(\"Failed to guess the mass for the following atom types: {}\".format(atom_type))\n",
      "/home/paul/git-repos/mdanalysis/package/MDAnalysis/topology/guessers.py:146: UserWarning: Failed to guess the mass for the following atom types: D\n",
      "  warnings.warn(\"Failed to guess the mass for the following atom types: {}\".format(atom_type))\n",
      "/home/paul/git-repos/mdanalysis/package/MDAnalysis/topology/guessers.py:146: UserWarning: Failed to guess the mass for the following atom types: G\n",
      "  warnings.warn(\"Failed to guess the mass for the following atom types: {}\".format(atom_type))\n",
      "/home/paul/git-repos/mdanalysis/package/MDAnalysis/topology/guessers.py:146: UserWarning: Failed to guess the mass for the following atom types: R\n",
      "  warnings.warn(\"Failed to guess the mass for the following atom types: {}\".format(atom_type))\n",
      "/home/paul/git-repos/mdanalysis/package/MDAnalysis/topology/guessers.py:146: UserWarning: Failed to guess the mass for the following atom types: T\n",
      "  warnings.warn(\"Failed to guess the mass for the following atom types: {}\".format(atom_type))\n"
     ]
    }
   ],
   "source": [
    "u = mda.Universe(\"../datafiles/LIM25_neuronal_plasma_membrane.gro\")"
   ]
  },
  {
   "cell_type": "code",
   "execution_count": 31,
   "metadata": {},
   "outputs": [],
   "source": [
    "membrane = u.select_atoms(\"name GL1 GL2 AM1 AM2 ROH\").residues"
   ]
  },
  {
   "cell_type": "markdown",
   "metadata": {},
   "source": [
    "The above selects all lipids in our system:"
   ]
  },
  {
   "cell_type": "code",
   "execution_count": 32,
   "metadata": {},
   "outputs": [
    {
     "name": "stdout",
     "output_type": "stream",
     "text": [
      "Number of lipids: 19447\n",
      "Number of lipid species: 58\n"
     ]
    }
   ],
   "source": [
    "print(f\"Number of lipids: {membrane.n_residues}\")\n",
    "print(f\"Number of lipid species: {np.unique(membrane.resnames).size}\")"
   ]
  },
  {
   "cell_type": "markdown",
   "metadata": {},
   "source": [
    "## Generate the neighbour matrix\n"
   ]
  },
  {
   "cell_type": "code",
   "execution_count": 33,
   "metadata": {},
   "outputs": [],
   "source": [
    "# lipid_sel cover all 58 species in the membrane\n",
    "neighbours = Neighbours(\n",
    "    universe=u,\n",
    "    lipid_sel=\"name GL1 GL2 AM1 AM2 ROH\",\n",
    "    cutoff=12.0\n",
    ")\n"
   ]
  },
  {
   "cell_type": "code",
   "execution_count": 34,
   "metadata": {},
   "outputs": [
    {
     "data": {
      "application/vnd.jupyter.widget-view+json": {
       "model_id": "5c453f0836b94e198c418f1f66c72de4",
       "version_major": 2,
       "version_minor": 0
      },
      "text/plain": [
       "  0%|          | 0/1 [00:00<?, ?it/s]"
      ]
     },
     "metadata": {},
     "output_type": "display_data"
    },
    {
     "name": "stderr",
     "output_type": "stream",
     "text": [
      "/home/paul/git-repos/mdanalysis/package/MDAnalysis/coordinates/base.py:887: UserWarning: Reader has no dt information, set to 1.0 ps\n",
      "  warnings.warn(\"Reader has no dt information, set to 1.0 ps\")\n"
     ]
    },
    {
     "data": {
      "text/plain": [
       "<lipyphilic.lib.neighbours.Neighbours at 0x7f64402ada00>"
      ]
     },
     "execution_count": 34,
     "metadata": {},
     "output_type": "execute_result"
    }
   ],
   "source": [
    "# Construct the neighbour matrix\n",
    "neighbours.run(\n",
    "    start=None,\n",
    "    stop=None,\n",
    "    step=None,\n",
    "    verbose=True\n",
    ")\n"
   ]
  },
  {
   "cell_type": "markdown",
   "metadata": {},
   "source": [
    "## Get the neighbour counts and enrichment/depletion of each lipid species"
   ]
  },
  {
   "cell_type": "code",
   "execution_count": 35,
   "metadata": {},
   "outputs": [
    {
     "data": {
      "application/vnd.jupyter.widget-view+json": {
       "model_id": "f9739856d9184c2c86fa7b155da2778e",
       "version_major": 2,
       "version_minor": 0
      },
      "text/plain": [
       "  0%|          | 0/1 [00:00<?, ?it/s]"
      ]
     },
     "metadata": {},
     "output_type": "display_data"
    }
   ],
   "source": [
    "counts, enrichment = neighbours.count_neighbours(\n",
    "    return_enrichment=True\n",
    ")"
   ]
  },
  {
   "cell_type": "markdown",
   "metadata": {},
   "source": [
    "`counts` contains the number of each species around each individual lipid at each frame."
   ]
  },
  {
   "cell_type": "code",
   "execution_count": 36,
   "metadata": {},
   "outputs": [
    {
     "data": {
      "text/html": [
       "<div>\n",
       "<style scoped>\n",
       "    .dataframe tbody tr th:only-of-type {\n",
       "        vertical-align: middle;\n",
       "    }\n",
       "\n",
       "    .dataframe tbody tr th {\n",
       "        vertical-align: top;\n",
       "    }\n",
       "\n",
       "    .dataframe thead th {\n",
       "        text-align: right;\n",
       "    }\n",
       "</style>\n",
       "<table border=\"1\" class=\"dataframe\">\n",
       "  <thead>\n",
       "    <tr style=\"text-align: right;\">\n",
       "      <th></th>\n",
       "      <th>Label</th>\n",
       "      <th>Resindex</th>\n",
       "      <th>Frame</th>\n",
       "      <th>nCHOL</th>\n",
       "      <th>nDBCE</th>\n",
       "      <th>nDBG1</th>\n",
       "      <th>nDBG3</th>\n",
       "      <th>nDBGS</th>\n",
       "      <th>nDOPC</th>\n",
       "      <th>nDPCE</th>\n",
       "      <th>...</th>\n",
       "      <th>nPOPE</th>\n",
       "      <th>nPOPI</th>\n",
       "      <th>nPOPS</th>\n",
       "      <th>nPOSM</th>\n",
       "      <th>nPUPC</th>\n",
       "      <th>nPUPE</th>\n",
       "      <th>nPUPI</th>\n",
       "      <th>nPUPS</th>\n",
       "      <th>nPWPC</th>\n",
       "      <th>Total</th>\n",
       "    </tr>\n",
       "  </thead>\n",
       "  <tbody>\n",
       "    <tr>\n",
       "      <th>0</th>\n",
       "      <td>CHOL</td>\n",
       "      <td>0</td>\n",
       "      <td>0</td>\n",
       "      <td>2</td>\n",
       "      <td>0</td>\n",
       "      <td>0</td>\n",
       "      <td>0</td>\n",
       "      <td>0</td>\n",
       "      <td>0</td>\n",
       "      <td>0</td>\n",
       "      <td>...</td>\n",
       "      <td>0</td>\n",
       "      <td>0</td>\n",
       "      <td>0</td>\n",
       "      <td>0</td>\n",
       "      <td>0</td>\n",
       "      <td>1</td>\n",
       "      <td>0</td>\n",
       "      <td>0</td>\n",
       "      <td>0</td>\n",
       "      <td>7</td>\n",
       "    </tr>\n",
       "    <tr>\n",
       "      <th>1</th>\n",
       "      <td>CHOL</td>\n",
       "      <td>1</td>\n",
       "      <td>0</td>\n",
       "      <td>3</td>\n",
       "      <td>0</td>\n",
       "      <td>0</td>\n",
       "      <td>0</td>\n",
       "      <td>0</td>\n",
       "      <td>0</td>\n",
       "      <td>0</td>\n",
       "      <td>...</td>\n",
       "      <td>0</td>\n",
       "      <td>0</td>\n",
       "      <td>1</td>\n",
       "      <td>0</td>\n",
       "      <td>0</td>\n",
       "      <td>0</td>\n",
       "      <td>0</td>\n",
       "      <td>1</td>\n",
       "      <td>0</td>\n",
       "      <td>10</td>\n",
       "    </tr>\n",
       "    <tr>\n",
       "      <th>2</th>\n",
       "      <td>CHOL</td>\n",
       "      <td>2</td>\n",
       "      <td>0</td>\n",
       "      <td>5</td>\n",
       "      <td>0</td>\n",
       "      <td>0</td>\n",
       "      <td>0</td>\n",
       "      <td>0</td>\n",
       "      <td>0</td>\n",
       "      <td>0</td>\n",
       "      <td>...</td>\n",
       "      <td>0</td>\n",
       "      <td>0</td>\n",
       "      <td>0</td>\n",
       "      <td>0</td>\n",
       "      <td>0</td>\n",
       "      <td>1</td>\n",
       "      <td>0</td>\n",
       "      <td>1</td>\n",
       "      <td>0</td>\n",
       "      <td>11</td>\n",
       "    </tr>\n",
       "    <tr>\n",
       "      <th>3</th>\n",
       "      <td>CHOL</td>\n",
       "      <td>3</td>\n",
       "      <td>0</td>\n",
       "      <td>5</td>\n",
       "      <td>0</td>\n",
       "      <td>0</td>\n",
       "      <td>0</td>\n",
       "      <td>0</td>\n",
       "      <td>0</td>\n",
       "      <td>0</td>\n",
       "      <td>...</td>\n",
       "      <td>1</td>\n",
       "      <td>1</td>\n",
       "      <td>0</td>\n",
       "      <td>0</td>\n",
       "      <td>0</td>\n",
       "      <td>1</td>\n",
       "      <td>0</td>\n",
       "      <td>0</td>\n",
       "      <td>0</td>\n",
       "      <td>10</td>\n",
       "    </tr>\n",
       "    <tr>\n",
       "      <th>4</th>\n",
       "      <td>CHOL</td>\n",
       "      <td>4</td>\n",
       "      <td>0</td>\n",
       "      <td>1</td>\n",
       "      <td>0</td>\n",
       "      <td>0</td>\n",
       "      <td>0</td>\n",
       "      <td>0</td>\n",
       "      <td>0</td>\n",
       "      <td>0</td>\n",
       "      <td>...</td>\n",
       "      <td>0</td>\n",
       "      <td>0</td>\n",
       "      <td>0</td>\n",
       "      <td>0</td>\n",
       "      <td>0</td>\n",
       "      <td>2</td>\n",
       "      <td>0</td>\n",
       "      <td>0</td>\n",
       "      <td>0</td>\n",
       "      <td>4</td>\n",
       "    </tr>\n",
       "  </tbody>\n",
       "</table>\n",
       "<p>5 rows × 62 columns</p>\n",
       "</div>"
      ],
      "text/plain": [
       "  Label  Resindex  Frame  nCHOL  nDBCE  nDBG1  nDBG3  nDBGS  nDOPC  nDPCE  \\\n",
       "0  CHOL         0      0      2      0      0      0      0      0      0   \n",
       "1  CHOL         1      0      3      0      0      0      0      0      0   \n",
       "2  CHOL         2      0      5      0      0      0      0      0      0   \n",
       "3  CHOL         3      0      5      0      0      0      0      0      0   \n",
       "4  CHOL         4      0      1      0      0      0      0      0      0   \n",
       "\n",
       "   ...  nPOPE  nPOPI  nPOPS  nPOSM  nPUPC  nPUPE  nPUPI  nPUPS  nPWPC  Total  \n",
       "0  ...      0      0      0      0      0      1      0      0      0      7  \n",
       "1  ...      0      0      1      0      0      0      0      1      0     10  \n",
       "2  ...      0      0      0      0      0      1      0      1      0     11  \n",
       "3  ...      1      1      0      0      0      1      0      0      0     10  \n",
       "4  ...      0      0      0      0      0      2      0      0      0      4  \n",
       "\n",
       "[5 rows x 62 columns]"
      ]
     },
     "execution_count": 36,
     "metadata": {},
     "output_type": "execute_result"
    }
   ],
   "source": [
    "counts.head()"
   ]
  },
  {
   "cell_type": "markdown",
   "metadata": {},
   "source": [
    "`enrichment` containts the enrichment/depletion index for each species at each frame"
   ]
  },
  {
   "cell_type": "code",
   "execution_count": 37,
   "metadata": {},
   "outputs": [
    {
     "data": {
      "text/html": [
       "<div>\n",
       "<style scoped>\n",
       "    .dataframe tbody tr th:only-of-type {\n",
       "        vertical-align: middle;\n",
       "    }\n",
       "\n",
       "    .dataframe tbody tr th {\n",
       "        vertical-align: top;\n",
       "    }\n",
       "\n",
       "    .dataframe thead th {\n",
       "        text-align: right;\n",
       "    }\n",
       "</style>\n",
       "<table border=\"1\" class=\"dataframe\">\n",
       "  <thead>\n",
       "    <tr style=\"text-align: right;\">\n",
       "      <th></th>\n",
       "      <th>Label</th>\n",
       "      <th>Frame</th>\n",
       "      <th>feCHOL</th>\n",
       "      <th>feDBCE</th>\n",
       "      <th>feDBG1</th>\n",
       "      <th>feDBG3</th>\n",
       "      <th>feDBGS</th>\n",
       "      <th>feDOPC</th>\n",
       "      <th>feDPCE</th>\n",
       "      <th>feDPG1</th>\n",
       "      <th>...</th>\n",
       "      <th>fePOPC</th>\n",
       "      <th>fePOPE</th>\n",
       "      <th>fePOPI</th>\n",
       "      <th>fePOPS</th>\n",
       "      <th>fePOSM</th>\n",
       "      <th>fePUPC</th>\n",
       "      <th>fePUPE</th>\n",
       "      <th>fePUPI</th>\n",
       "      <th>fePUPS</th>\n",
       "      <th>fePWPC</th>\n",
       "    </tr>\n",
       "  </thead>\n",
       "  <tbody>\n",
       "    <tr>\n",
       "      <th>0</th>\n",
       "      <td>CHOL</td>\n",
       "      <td>0</td>\n",
       "      <td>0.813804</td>\n",
       "      <td>1.020109</td>\n",
       "      <td>1.035580</td>\n",
       "      <td>0.979078</td>\n",
       "      <td>1.022706</td>\n",
       "      <td>0.975603</td>\n",
       "      <td>0.989185</td>\n",
       "      <td>0.949647</td>\n",
       "      <td>...</td>\n",
       "      <td>0.992482</td>\n",
       "      <td>0.995661</td>\n",
       "      <td>0.949569</td>\n",
       "      <td>0.984684</td>\n",
       "      <td>0.948808</td>\n",
       "      <td>0.936670</td>\n",
       "      <td>0.935348</td>\n",
       "      <td>0.951896</td>\n",
       "      <td>0.917778</td>\n",
       "      <td>0.955743</td>\n",
       "    </tr>\n",
       "    <tr>\n",
       "      <th>1</th>\n",
       "      <td>DBCE</td>\n",
       "      <td>0</td>\n",
       "      <td>1.401415</td>\n",
       "      <td>0.000000</td>\n",
       "      <td>0.000000</td>\n",
       "      <td>8.022690</td>\n",
       "      <td>0.000000</td>\n",
       "      <td>1.393052</td>\n",
       "      <td>1.902093</td>\n",
       "      <td>0.000000</td>\n",
       "      <td>...</td>\n",
       "      <td>1.028579</td>\n",
       "      <td>1.220319</td>\n",
       "      <td>1.249486</td>\n",
       "      <td>2.646931</td>\n",
       "      <td>0.000000</td>\n",
       "      <td>0.697025</td>\n",
       "      <td>0.615162</td>\n",
       "      <td>1.808687</td>\n",
       "      <td>0.000000</td>\n",
       "      <td>0.000000</td>\n",
       "    </tr>\n",
       "    <tr>\n",
       "      <th>2</th>\n",
       "      <td>DBG1</td>\n",
       "      <td>0</td>\n",
       "      <td>1.543746</td>\n",
       "      <td>0.000000</td>\n",
       "      <td>11.916054</td>\n",
       "      <td>6.017017</td>\n",
       "      <td>9.104401</td>\n",
       "      <td>0.000000</td>\n",
       "      <td>1.426570</td>\n",
       "      <td>14.482757</td>\n",
       "      <td>...</td>\n",
       "      <td>0.514289</td>\n",
       "      <td>0.305080</td>\n",
       "      <td>0.000000</td>\n",
       "      <td>0.000000</td>\n",
       "      <td>0.000000</td>\n",
       "      <td>0.522769</td>\n",
       "      <td>0.092274</td>\n",
       "      <td>0.000000</td>\n",
       "      <td>0.000000</td>\n",
       "      <td>1.408386</td>\n",
       "    </tr>\n",
       "    <tr>\n",
       "      <th>3</th>\n",
       "      <td>DBG3</td>\n",
       "      <td>0</td>\n",
       "      <td>1.445209</td>\n",
       "      <td>8.620124</td>\n",
       "      <td>5.958027</td>\n",
       "      <td>0.000000</td>\n",
       "      <td>1.138050</td>\n",
       "      <td>1.741314</td>\n",
       "      <td>1.426570</td>\n",
       "      <td>13.368698</td>\n",
       "      <td>...</td>\n",
       "      <td>0.428575</td>\n",
       "      <td>0.915239</td>\n",
       "      <td>0.000000</td>\n",
       "      <td>0.000000</td>\n",
       "      <td>1.295776</td>\n",
       "      <td>0.000000</td>\n",
       "      <td>0.369097</td>\n",
       "      <td>0.000000</td>\n",
       "      <td>0.000000</td>\n",
       "      <td>0.000000</td>\n",
       "    </tr>\n",
       "    <tr>\n",
       "      <th>4</th>\n",
       "      <td>DBGS</td>\n",
       "      <td>0</td>\n",
       "      <td>1.418933</td>\n",
       "      <td>0.000000</td>\n",
       "      <td>8.473638</td>\n",
       "      <td>1.069692</td>\n",
       "      <td>5.260320</td>\n",
       "      <td>1.114441</td>\n",
       "      <td>0.253612</td>\n",
       "      <td>9.308575</td>\n",
       "      <td>...</td>\n",
       "      <td>1.020960</td>\n",
       "      <td>0.705073</td>\n",
       "      <td>0.000000</td>\n",
       "      <td>0.000000</td>\n",
       "      <td>1.842881</td>\n",
       "      <td>0.743493</td>\n",
       "      <td>0.459321</td>\n",
       "      <td>0.000000</td>\n",
       "      <td>0.000000</td>\n",
       "      <td>1.001519</td>\n",
       "    </tr>\n",
       "  </tbody>\n",
       "</table>\n",
       "<p>5 rows × 60 columns</p>\n",
       "</div>"
      ],
      "text/plain": [
       "  Label  Frame    feCHOL    feDBCE     feDBG1    feDBG3    feDBGS    feDOPC  \\\n",
       "0  CHOL      0  0.813804  1.020109   1.035580  0.979078  1.022706  0.975603   \n",
       "1  DBCE      0  1.401415  0.000000   0.000000  8.022690  0.000000  1.393052   \n",
       "2  DBG1      0  1.543746  0.000000  11.916054  6.017017  9.104401  0.000000   \n",
       "3  DBG3      0  1.445209  8.620124   5.958027  0.000000  1.138050  1.741314   \n",
       "4  DBGS      0  1.418933  0.000000   8.473638  1.069692  5.260320  1.114441   \n",
       "\n",
       "     feDPCE     feDPG1  ...    fePOPC    fePOPE    fePOPI    fePOPS    fePOSM  \\\n",
       "0  0.989185   0.949647  ...  0.992482  0.995661  0.949569  0.984684  0.948808   \n",
       "1  1.902093   0.000000  ...  1.028579  1.220319  1.249486  2.646931  0.000000   \n",
       "2  1.426570  14.482757  ...  0.514289  0.305080  0.000000  0.000000  0.000000   \n",
       "3  1.426570  13.368698  ...  0.428575  0.915239  0.000000  0.000000  1.295776   \n",
       "4  0.253612   9.308575  ...  1.020960  0.705073  0.000000  0.000000  1.842881   \n",
       "\n",
       "     fePUPC    fePUPE    fePUPI    fePUPS    fePWPC  \n",
       "0  0.936670  0.935348  0.951896  0.917778  0.955743  \n",
       "1  0.697025  0.615162  1.808687  0.000000  0.000000  \n",
       "2  0.522769  0.092274  0.000000  0.000000  1.408386  \n",
       "3  0.000000  0.369097  0.000000  0.000000  0.000000  \n",
       "4  0.743493  0.459321  0.000000  0.000000  1.001519  \n",
       "\n",
       "[5 rows x 60 columns]"
      ]
     },
     "execution_count": 37,
     "metadata": {},
     "output_type": "execute_result"
    }
   ],
   "source": [
    "enrichment.head()"
   ]
  },
  {
   "cell_type": "markdown",
   "metadata": {},
   "source": [
    "## Plot a heatmap of the lipid enrichment/depletion"
   ]
  },
  {
   "cell_type": "code",
   "execution_count": 38,
   "metadata": {},
   "outputs": [],
   "source": [
    "# Average the enricment values over time\n",
    "# Extract the enrichment value into a two-dimensional NumPy array\n",
    "enrichment_values = enrichment.groupby(\"Label\")[enrichment.columns[2:]].mean().values"
   ]
  },
  {
   "cell_type": "code",
   "execution_count": 39,
   "metadata": {},
   "outputs": [
    {
     "data": {
      "text/plain": [
       "(58, 58)"
      ]
     },
     "execution_count": 39,
     "metadata": {},
     "output_type": "execute_result"
    }
   ],
   "source": [
    "# There is an enrichment value for each species around each other species\n",
    "enrichment_values.shape"
   ]
  },
  {
   "cell_type": "code",
   "execution_count": 40,
   "metadata": {},
   "outputs": [],
   "source": [
    "# Extract the species residue names to label our heatmap\n",
    "labels = np.asarray([column.strip(\"fe\") for column in enrichment.columns if column.startswith(\"fe\")])"
   ]
  },
  {
   "cell_type": "code",
   "execution_count": 41,
   "metadata": {},
   "outputs": [
    {
     "data": {
      "text/plain": [
       "array(['CHOL', 'DBCE', 'DBG1', 'DBG3', 'DBGS', 'DOPC', 'DPCE', 'DPG1',\n",
       "       'DPG3', 'DPGS', 'DPPC', 'DPPS', 'DPSM', 'I0PC', 'I0PE', 'OAPE',\n",
       "       'OIPC', 'OIPE', 'OUPC', 'OUPE', 'OUPS', 'P0PC', 'P0PE', 'PADG',\n",
       "       'PAI1', 'PAI6', 'PAI7', 'PAPA', 'PAPC', 'PAPE', 'PAPI', 'PAPS',\n",
       "       'PBSM', 'PIPI', 'PNCE', 'PNG1', 'PNG3', 'PNGS', 'PNSM', 'POCE',\n",
       "       'PODG', 'POG1', 'POG3', 'POGS', 'POI1', 'POI6', 'POI7', 'POPA',\n",
       "       'POPC', 'POPE', 'POPI', 'POPS', 'POSM', 'PUPC', 'PUPE', 'PUPI',\n",
       "       'PUPS', 'PWPC'], dtype='<U4')"
      ]
     },
     "execution_count": 41,
     "metadata": {},
     "output_type": "execute_result"
    }
   ],
   "source": [
    "# This is a NumPy array containing each species name in the same order as seen in the enrichment DataFrame\n",
    "labels"
   ]
  },
  {
   "cell_type": "markdown",
   "metadata": {},
   "source": [
    "Now we can create our heatmap:"
   ]
  },
  {
   "cell_type": "code",
   "execution_count": 42,
   "metadata": {},
   "outputs": [
    {
     "data": {
      "text/plain": [
       "Text(424.0, 0.5, 'Reference')"
      ]
     },
     "execution_count": 42,
     "metadata": {},
     "output_type": "execute_result"
    },
    {
     "data": {
      "image/png": "[encoded data removed]",
      "text/plain": [
       "<Figure size 3600x3600 with 2 Axes>"
      ]
     },
     "metadata": {
      "needs_background": "light"
     },
     "output_type": "display_data"
    }
   ],
   "source": [
    "# Create a huge figure large enough for our 58 x 58 matrix\n",
    "plt.figure(figsize=(50, 50))\n",
    "sns.set({\"font.size\": 15})\n",
    "\n",
    "sns.heatmap(\n",
    "    enrichment_values,\n",
    "    xticklabels=labels,\n",
    "    yticklabels=labels,\n",
    "    vmin=0, vmax=3, center=1,\n",
    "    annot=False, fmt=\".1f\",\n",
    "    square=True,\n",
    "    cmap=\"RdBu\",\n",
    "    cbar=True,\n",
    "    cbar_kws={\"label\": \"Enrichment\", \"aspect\":100, \"shrink\": 0.863, \"pad\": 0.01}\n",
    ")\n",
    "\n",
    "plt.xlabel(\"Neighbour\")\n",
    "plt.ylabel(\"Reference\")\n"
   ]
  },
  {
   "cell_type": "markdown",
   "metadata": {},
   "source": [
    "## Plotting enrichment by tail saturation\n",
    "The above heatmap, which plots the enrichment of each species around every other species, contains too much information to be of much use.\n",
    "\n",
    "Here, we will instead calculate the enrichment of lipids based on how saturated their tails are.\n"
   ]
  },
  {
   "cell_type": "code",
   "execution_count": 43,
   "metadata": {},
   "outputs": [],
   "source": [
    "lipids = np.asarray([column.strip(\"fe\") for column in enrichment.columns if column.startswith(\"fe\")])"
   ]
  },
  {
   "cell_type": "markdown",
   "metadata": {},
   "source": [
    "First we need to define the saturation of each lipid:"
   ]
  },
  {
   "cell_type": "code",
   "execution_count": 44,
   "metadata": {},
   "outputs": [],
   "source": [
    "membrane = u.select_atoms(\"name GL1 GL2 AM1 AM2 ROH\")\n",
    "saturation = []\n",
    "\n",
    "# Determine the saturation of each individual lipid\n",
    "for lipid in np.unique(membrane.resnames):\n",
    "    \n",
    "    # select only the lipids of the current species\n",
    "    lipid_residues = membrane.residues.atoms.select_atoms(f\"resname {lipid}\").residues\n",
    "    \n",
    "    # now we will consider a single lipid of this species to determine its saturation\n",
    "    lipid_atoms = lipid_residues[0].atoms\n",
    "    \n",
    "    # It is a sterol if it has an ROH bead\n",
    "    if \"ROH\" in lipid_atoms.names:\n",
    "        saturation.append(\"Chol\")\n",
    "    \n",
    "    else:\n",
    "        \n",
    "        # count the number of D beads - these refer to double bonds in the acyl tails\n",
    "        num_doulbe = sum([True for name in lipid_atoms.names if name.startswith(\"D\")])\n",
    "        \n",
    "        # It is saturated if it has no D beads\n",
    "        if num_doulbe == 0:\n",
    "            saturation.append(\"S\")\n",
    "            \n",
    "        # It is monounsaturated if it has 1 D bead\n",
    "        elif num_doulbe == 1:\n",
    "            saturation.append(\"MU\")\n",
    "            \n",
    "        # It is polyunsaturated if it has 2+ D beads\n",
    "        else:\n",
    "            saturation.append(\"PU\")\n",
    "\n",
    "saturation = np.array(saturation)\n"
   ]
  },
  {
   "cell_type": "markdown",
   "metadata": {},
   "source": [
    "Now we will create a two-dimensional NumPy array, of shape ($N_{\\rm lipids}, N_{\\rm frames}$), where each lipid is labelled by its saturation.\n"
   ]
  },
  {
   "cell_type": "code",
   "execution_count": 45,
   "metadata": {},
   "outputs": [],
   "source": [
    "count_by = np.full((membrane.n_residues, neighbours.n_frames), fill_value=\"\", dtype=\"<U4\")\n",
    "\n",
    "for lipid, sat in zip(np.unique(membrane.resnames), saturation):\n",
    "    \n",
    "    lipid_indices = membrane.residues.resnames == lipid\n",
    "    count_by[lipid_indices] = sat\n"
   ]
  },
  {
   "cell_type": "markdown",
   "metadata": {},
   "source": [
    "We can now pass this `count_by` array to `count_neighbours`"
   ]
  },
  {
   "cell_type": "code",
   "execution_count": 46,
   "metadata": {},
   "outputs": [
    {
     "data": {
      "application/vnd.jupyter.widget-view+json": {
       "model_id": "2192e90c5cb54e2099b7029e53da92bd",
       "version_major": 2,
       "version_minor": 0
      },
      "text/plain": [
       "  0%|          | 0/1 [00:00<?, ?it/s]"
      ]
     },
     "metadata": {},
     "output_type": "display_data"
    }
   ],
   "source": [
    "counts, enrichment = neighbours.count_neighbours(\n",
    "    count_by=count_by,\n",
    "    return_enrichment=True\n",
    ")"
   ]
  },
  {
   "cell_type": "markdown",
   "metadata": {},
   "source": [
    "Let's looks at the DataFrames:"
   ]
  },
  {
   "cell_type": "code",
   "execution_count": 47,
   "metadata": {},
   "outputs": [
    {
     "data": {
      "text/html": [
       "<div>\n",
       "<style scoped>\n",
       "    .dataframe tbody tr th:only-of-type {\n",
       "        vertical-align: middle;\n",
       "    }\n",
       "\n",
       "    .dataframe tbody tr th {\n",
       "        vertical-align: top;\n",
       "    }\n",
       "\n",
       "    .dataframe thead th {\n",
       "        text-align: right;\n",
       "    }\n",
       "</style>\n",
       "<table border=\"1\" class=\"dataframe\">\n",
       "  <thead>\n",
       "    <tr style=\"text-align: right;\">\n",
       "      <th></th>\n",
       "      <th>Label</th>\n",
       "      <th>Resindex</th>\n",
       "      <th>Frame</th>\n",
       "      <th>nChol</th>\n",
       "      <th>nMU</th>\n",
       "      <th>nPU</th>\n",
       "      <th>nS</th>\n",
       "      <th>Total</th>\n",
       "    </tr>\n",
       "  </thead>\n",
       "  <tbody>\n",
       "    <tr>\n",
       "      <th>0</th>\n",
       "      <td>Chol</td>\n",
       "      <td>0</td>\n",
       "      <td>0</td>\n",
       "      <td>2</td>\n",
       "      <td>2</td>\n",
       "      <td>3</td>\n",
       "      <td>0</td>\n",
       "      <td>7</td>\n",
       "    </tr>\n",
       "    <tr>\n",
       "      <th>1</th>\n",
       "      <td>Chol</td>\n",
       "      <td>1</td>\n",
       "      <td>0</td>\n",
       "      <td>3</td>\n",
       "      <td>3</td>\n",
       "      <td>3</td>\n",
       "      <td>1</td>\n",
       "      <td>10</td>\n",
       "    </tr>\n",
       "    <tr>\n",
       "      <th>2</th>\n",
       "      <td>Chol</td>\n",
       "      <td>2</td>\n",
       "      <td>0</td>\n",
       "      <td>5</td>\n",
       "      <td>0</td>\n",
       "      <td>4</td>\n",
       "      <td>2</td>\n",
       "      <td>11</td>\n",
       "    </tr>\n",
       "    <tr>\n",
       "      <th>3</th>\n",
       "      <td>Chol</td>\n",
       "      <td>3</td>\n",
       "      <td>0</td>\n",
       "      <td>5</td>\n",
       "      <td>3</td>\n",
       "      <td>1</td>\n",
       "      <td>1</td>\n",
       "      <td>10</td>\n",
       "    </tr>\n",
       "    <tr>\n",
       "      <th>4</th>\n",
       "      <td>Chol</td>\n",
       "      <td>4</td>\n",
       "      <td>0</td>\n",
       "      <td>1</td>\n",
       "      <td>1</td>\n",
       "      <td>2</td>\n",
       "      <td>0</td>\n",
       "      <td>4</td>\n",
       "    </tr>\n",
       "  </tbody>\n",
       "</table>\n",
       "</div>"
      ],
      "text/plain": [
       "  Label  Resindex  Frame  nChol  nMU  nPU  nS  Total\n",
       "0  Chol         0      0      2    2    3   0      7\n",
       "1  Chol         1      0      3    3    3   1     10\n",
       "2  Chol         2      0      5    0    4   2     11\n",
       "3  Chol         3      0      5    3    1   1     10\n",
       "4  Chol         4      0      1    1    2   0      4"
      ]
     },
     "execution_count": 47,
     "metadata": {},
     "output_type": "execute_result"
    }
   ],
   "source": [
    "counts.head()"
   ]
  },
  {
   "cell_type": "code",
   "execution_count": 48,
   "metadata": {},
   "outputs": [
    {
     "data": {
      "text/html": [
       "<div>\n",
       "<style scoped>\n",
       "    .dataframe tbody tr th:only-of-type {\n",
       "        vertical-align: middle;\n",
       "    }\n",
       "\n",
       "    .dataframe tbody tr th {\n",
       "        vertical-align: top;\n",
       "    }\n",
       "\n",
       "    .dataframe thead th {\n",
       "        text-align: right;\n",
       "    }\n",
       "</style>\n",
       "<table border=\"1\" class=\"dataframe\">\n",
       "  <thead>\n",
       "    <tr style=\"text-align: right;\">\n",
       "      <th></th>\n",
       "      <th>Label</th>\n",
       "      <th>Frame</th>\n",
       "      <th>feChol</th>\n",
       "      <th>feMU</th>\n",
       "      <th>fePU</th>\n",
       "      <th>feS</th>\n",
       "    </tr>\n",
       "  </thead>\n",
       "  <tbody>\n",
       "    <tr>\n",
       "      <th>0</th>\n",
       "      <td>Chol</td>\n",
       "      <td>0</td>\n",
       "      <td>0.813804</td>\n",
       "      <td>0.985810</td>\n",
       "      <td>0.938814</td>\n",
       "      <td>0.989275</td>\n",
       "    </tr>\n",
       "    <tr>\n",
       "      <th>1</th>\n",
       "      <td>MU</td>\n",
       "      <td>0</td>\n",
       "      <td>1.249158</td>\n",
       "      <td>1.113471</td>\n",
       "      <td>1.029335</td>\n",
       "      <td>1.120257</td>\n",
       "    </tr>\n",
       "    <tr>\n",
       "      <th>2</th>\n",
       "      <td>PU</td>\n",
       "      <td>0</td>\n",
       "      <td>1.025237</td>\n",
       "      <td>0.886986</td>\n",
       "      <td>1.171226</td>\n",
       "      <td>0.670346</td>\n",
       "    </tr>\n",
       "    <tr>\n",
       "      <th>3</th>\n",
       "      <td>S</td>\n",
       "      <td>0</td>\n",
       "      <td>1.309441</td>\n",
       "      <td>1.170115</td>\n",
       "      <td>0.812664</td>\n",
       "      <td>1.606033</td>\n",
       "    </tr>\n",
       "  </tbody>\n",
       "</table>\n",
       "</div>"
      ],
      "text/plain": [
       "  Label  Frame    feChol      feMU      fePU       feS\n",
       "0  Chol      0  0.813804  0.985810  0.938814  0.989275\n",
       "1    MU      0  1.249158  1.113471  1.029335  1.120257\n",
       "2    PU      0  1.025237  0.886986  1.171226  0.670346\n",
       "3     S      0  1.309441  1.170115  0.812664  1.606033"
      ]
     },
     "execution_count": 48,
     "metadata": {},
     "output_type": "execute_result"
    }
   ],
   "source": [
    "enrichment.head()"
   ]
  },
  {
   "cell_type": "markdown",
   "metadata": {},
   "source": [
    "Now we can plot enrichment in terms of tail saturation"
   ]
  },
  {
   "cell_type": "code",
   "execution_count": 49,
   "metadata": {},
   "outputs": [],
   "source": [
    "# Average the enricment values over time\n",
    "# Extract the enrichment value into a two-dimensional NumPy array\n",
    "enrichment_values = enrichment.groupby(\"Label\")[enrichment.columns[2:]].mean().values"
   ]
  },
  {
   "cell_type": "code",
   "execution_count": 50,
   "metadata": {},
   "outputs": [
    {
     "data": {
      "text/plain": [
       "array([[0.81380427, 0.98580965, 0.93881364, 0.98927531],\n",
       "       [1.24915828, 1.1134714 , 1.0293349 , 1.12025653],\n",
       "       [1.02523664, 0.88698551, 1.17122624, 0.67034623],\n",
       "       [1.30944063, 1.17011531, 0.81266381, 1.60603278]])"
      ]
     },
     "execution_count": 50,
     "metadata": {},
     "output_type": "execute_result"
    }
   ],
   "source": [
    "# This is now a NumPy that contains the enrichment/depletion in terms of tail saturation\n",
    "enrichment_values"
   ]
  },
  {
   "cell_type": "code",
   "execution_count": 51,
   "metadata": {},
   "outputs": [
    {
     "data": {
      "image/png": "[encoded data removed]",
      "text/plain": [
       "<Figure size 576x576 with 2 Axes>"
      ]
     },
     "metadata": {},
     "output_type": "display_data"
    }
   ],
   "source": [
    "ticklabels = [\"Chol\", \"Sat\", \"Mono Unsat\", \"Poly Unsat\"]\n",
    "plt.figure(figsize=(8, 8))\n",
    "sns.set({\"font.size\": 15})\n",
    "\n",
    "sns.heatmap(\n",
    "    enrichment_values,\n",
    "    vmin=0.5, vmax=1.5, center=1,\n",
    "    annot=True, fmt=\".3f\",\n",
    "    square=True,\n",
    "    cmap=\"RdBu\",\n",
    "    cbar_kws={\"label\": \"Enrichment\", \"aspect\":40, \"shrink\": 0.84, \"pad\": 0.025}\n",
    ")\n",
    "\n",
    "plt.xlabel(\"Neighbour\")\n",
    "plt.ylabel(\"Reference\")\n",
    "\n",
    "plt.gca().set_xticklabels(ticklabels, rotation=45)\n",
    "plt.gca().set_yticklabels(ticklabels, rotation=45)\n",
    "\n",
    "plt.show()\n"
   ]
  },
  {
   "cell_type": "code",
   "execution_count": null,
   "metadata": {},
   "outputs": [],
   "source": []
  }
 ],
 "metadata": {
  "kernelspec": {
   "display_name": "Python 3",
   "language": "python",
   "name": "python3"
  },
  "language_info": {
   "codemirror_mode": {
    "name": "ipython",
    "version": 3
   },
   "file_extension": ".py",
   "mimetype": "text/x-python",
   "name": "python",
   "nbconvert_exporter": "python",
   "pygments_lexer": "ipython3",
   "version": "3.7.13"
  },
  "widgets": {
   "application/vnd.jupyter.widget-state+json": {
    "state": {
     "12defb2428944994bca34e79b6cc5740": {
      "model_module": "@jupyter-widgets/base",
      "model_module_version": "1.2.0",
      "model_name": "LayoutModel",
      "state": {}
     },
     "2fa02fc6898646e5a8e5460d70594824": {
      "model_module": "@jupyter-widgets/controls",
      "model_module_version": "1.5.0",
      "model_name": "DescriptionStyleModel",
      "state": {
       "description_width": ""
      }
     },
     "301ebeda12be4efa96416cb0f75e5508": {
      "model_module": "@jupyter-widgets/base",
      "model_module_version": "1.2.0",
      "model_name": "LayoutModel",
      "state": {}
     },
     "36fc405c0a864820b910bc55a7da0467": {
      "model_module": "@jupyter-widgets/controls",
      "model_module_version": "1.5.0",
      "model_name": "FloatProgressModel",
      "state": {
       "bar_style": "success",
       "layout": "IPY_MODEL_dce72f8dfe444c7d820d9f15f88878ac",
       "max": 51,
       "style": "IPY_MODEL_ae978030e549455d890d399d105becf3",
       "value": 51
      }
     },
     "38d0bff83a604781ab533eba6996bab5": {
      "model_module": "@jupyter-widgets/base",
      "model_module_version": "1.2.0",
      "model_name": "LayoutModel",
      "state": {}
     },
     "3d6ce52497b54d3a947e2c6f44a9e85b": {
      "model_module": "@jupyter-widgets/controls",
      "model_module_version": "1.5.0",
      "model_name": "HTMLModel",
      "state": {
       "layout": "IPY_MODEL_301ebeda12be4efa96416cb0f75e5508",
       "style": "IPY_MODEL_2fa02fc6898646e5a8e5460d70594824",
       "value": "100%"
      }
     },
     "3e32f4d1118a40cc88ccb9c01fa8a8c6": {
      "model_module": "@jupyter-widgets/base",
      "model_module_version": "1.2.0",
      "model_name": "LayoutModel",
      "state": {}
     },
     "3f7c80846608456895e775acc4eb78b8": {
      "model_module": "@jupyter-widgets/controls",
      "model_module_version": "1.5.0",
      "model_name": "HTMLModel",
      "state": {
       "layout": "IPY_MODEL_12defb2428944994bca34e79b6cc5740",
       "style": "IPY_MODEL_e0373210e6a1406f9964f85f458235d0",
       "value": "100%"
      }
     },
     "522cf78838b5436d93d47ee47341319b": {
      "model_module": "@jupyter-widgets/base",
      "model_module_version": "1.2.0",
      "model_name": "LayoutModel",
      "state": {}
     },
     "52e1c44a2d144439ae934fd1b722c798": {
      "model_module": "@jupyter-widgets/base",
      "model_module_version": "1.2.0",
      "model_name": "LayoutModel",
      "state": {}
     },
     "55288a7c905c4089b918e1edd78e8849": {
      "model_module": "@jupyter-widgets/controls",
      "model_module_version": "1.5.0",
      "model_name": "DescriptionStyleModel",
      "state": {
       "description_width": ""
      }
     },
     "657e0a24da8e47509085ffb68e1c7425": {
      "model_module": "@jupyter-widgets/controls",
      "model_module_version": "1.5.0",
      "model_name": "FloatProgressModel",
      "state": {
       "bar_style": "success",
       "layout": "IPY_MODEL_a084287f30d74199942d33b6ae036f01",
       "max": 51,
       "style": "IPY_MODEL_d3a9d21a07ce447faf449402e39aa0ce",
       "value": 51
      }
     },
     "6c0d50b2a7e24f6e9368d34d2480cc7a": {
      "model_module": "@jupyter-widgets/controls",
      "model_module_version": "1.5.0",
      "model_name": "FloatProgressModel",
      "state": {
       "bar_style": "success",
       "layout": "IPY_MODEL_7b04ec60a4ab43cfb572a0c64a37f844",
       "max": 51,
       "style": "IPY_MODEL_edaba43c95c5425482cdcf1195108e87",
       "value": 51
      }
     },
     "72f1b98eca134f0da8eb66b587a6ae4e": {
      "model_module": "@jupyter-widgets/controls",
      "model_module_version": "1.5.0",
      "model_name": "HBoxModel",
      "state": {
       "children": [
        "IPY_MODEL_3f7c80846608456895e775acc4eb78b8",
        "IPY_MODEL_36fc405c0a864820b910bc55a7da0467",
        "IPY_MODEL_dbd04793c84e4f2abca4072390e287b5"
       ],
       "layout": "IPY_MODEL_98ca0082f5be45d5a8218885ad162f7f"
      }
     },
     "7b04ec60a4ab43cfb572a0c64a37f844": {
      "model_module": "@jupyter-widgets/base",
      "model_module_version": "1.2.0",
      "model_name": "LayoutModel",
      "state": {}
     },
     "85d2b79ea7ec4a2188beb6e8680ece8f": {
      "model_module": "@jupyter-widgets/controls",
      "model_module_version": "1.5.0",
      "model_name": "DescriptionStyleModel",
      "state": {
       "description_width": ""
      }
     },
     "8b0133e93a294bdea44453b8a10348b6": {
      "model_module": "@jupyter-widgets/controls",
      "model_module_version": "1.5.0",
      "model_name": "HBoxModel",
      "state": {
       "children": [
        "IPY_MODEL_b94674983ddc460284ead56d79863e35",
        "IPY_MODEL_6c0d50b2a7e24f6e9368d34d2480cc7a",
        "IPY_MODEL_bc57ba15195c4876bad4d9e76f3c805a"
       ],
       "layout": "IPY_MODEL_aa9b774da45d422aa893ec34accd5e3c"
      }
     },
     "98208caf113247baa1b5af74cfd90ddf": {
      "model_module": "@jupyter-widgets/controls",
      "model_module_version": "1.5.0",
      "model_name": "HBoxModel",
      "state": {
       "children": [
        "IPY_MODEL_3d6ce52497b54d3a947e2c6f44a9e85b",
        "IPY_MODEL_657e0a24da8e47509085ffb68e1c7425",
        "IPY_MODEL_ef8531c5f76f4298b2659f2ce4d9ffc9"
       ],
       "layout": "IPY_MODEL_52e1c44a2d144439ae934fd1b722c798"
      }
     },
     "98ca0082f5be45d5a8218885ad162f7f": {
      "model_module": "@jupyter-widgets/base",
      "model_module_version": "1.2.0",
      "model_name": "LayoutModel",
      "state": {}
     },
     "a084287f30d74199942d33b6ae036f01": {
      "model_module": "@jupyter-widgets/base",
      "model_module_version": "1.2.0",
      "model_name": "LayoutModel",
      "state": {}
     },
     "aa07aac037634dcc8f1824f919cd6413": {
      "model_module": "@jupyter-widgets/base",
      "model_module_version": "1.2.0",
      "model_name": "LayoutModel",
      "state": {}
     },
     "aa9b774da45d422aa893ec34accd5e3c": {
      "model_module": "@jupyter-widgets/base",
      "model_module_version": "1.2.0",
      "model_name": "LayoutModel",
      "state": {}
     },
     "ae978030e549455d890d399d105becf3": {
      "model_module": "@jupyter-widgets/controls",
      "model_module_version": "1.5.0",
      "model_name": "ProgressStyleModel",
      "state": {
       "description_width": ""
      }
     },
     "b94674983ddc460284ead56d79863e35": {
      "model_module": "@jupyter-widgets/controls",
      "model_module_version": "1.5.0",
      "model_name": "HTMLModel",
      "state": {
       "layout": "IPY_MODEL_3e32f4d1118a40cc88ccb9c01fa8a8c6",
       "style": "IPY_MODEL_85d2b79ea7ec4a2188beb6e8680ece8f",
       "value": "100%"
      }
     },
     "bc57ba15195c4876bad4d9e76f3c805a": {
      "model_module": "@jupyter-widgets/controls",
      "model_module_version": "1.5.0",
      "model_name": "HTMLModel",
      "state": {
       "layout": "IPY_MODEL_aa07aac037634dcc8f1824f919cd6413",
       "style": "IPY_MODEL_55288a7c905c4089b918e1edd78e8849",
       "value": " 51/51 [00:03&lt;00:00, 13.86it/s]"
      }
     },
     "cf2f5fc588364b8b82cd51a2bb1b26ff": {
      "model_module": "@jupyter-widgets/controls",
      "model_module_version": "1.5.0",
      "model_name": "DescriptionStyleModel",
      "state": {
       "description_width": ""
      }
     },
     "d3a9d21a07ce447faf449402e39aa0ce": {
      "model_module": "@jupyter-widgets/controls",
      "model_module_version": "1.5.0",
      "model_name": "ProgressStyleModel",
      "state": {
       "description_width": ""
      }
     },
     "d8bf8e95fd394bc5a4adc091e1848fa9": {
      "model_module": "@jupyter-widgets/controls",
      "model_module_version": "1.5.0",
      "model_name": "DescriptionStyleModel",
      "state": {
       "description_width": ""
      }
     },
     "dbd04793c84e4f2abca4072390e287b5": {
      "model_module": "@jupyter-widgets/controls",
      "model_module_version": "1.5.0",
      "model_name": "HTMLModel",
      "state": {
       "layout": "IPY_MODEL_38d0bff83a604781ab533eba6996bab5",
       "style": "IPY_MODEL_cf2f5fc588364b8b82cd51a2bb1b26ff",
       "value": " 51/51 [00:26&lt;00:00,  1.91it/s]"
      }
     },
     "dce72f8dfe444c7d820d9f15f88878ac": {
      "model_module": "@jupyter-widgets/base",
      "model_module_version": "1.2.0",
      "model_name": "LayoutModel",
      "state": {}
     },
     "e0373210e6a1406f9964f85f458235d0": {
      "model_module": "@jupyter-widgets/controls",
      "model_module_version": "1.5.0",
      "model_name": "DescriptionStyleModel",
      "state": {
       "description_width": ""
      }
     },
     "edaba43c95c5425482cdcf1195108e87": {
      "model_module": "@jupyter-widgets/controls",
      "model_module_version": "1.5.0",
      "model_name": "ProgressStyleModel",
      "state": {
       "description_width": ""
      }
     },
     "ef8531c5f76f4298b2659f2ce4d9ffc9": {
      "model_module": "@jupyter-widgets/controls",
      "model_module_version": "1.5.0",
      "model_name": "HTMLModel",
      "state": {
       "layout": "IPY_MODEL_522cf78838b5436d93d47ee47341319b",
       "style": "IPY_MODEL_d8bf8e95fd394bc5a4adc091e1848fa9",
       "value": " 51/51 [00:03&lt;00:00, 13.45it/s]"
      }
     }
    },
    "version_major": 2,
    "version_minor": 0
   }
  }
 },
 "nbformat": 4,
 "nbformat_minor": 4
}
