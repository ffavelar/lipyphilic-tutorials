{
 "cells": [
  {
   "cell_type": "markdown",
   "metadata": {},
   "source": [
    "# Lateral diffusion of lipids in lipid membranes\n",
    "\n",
    "We will calculate the diffusion coefficient of lipids in a ternary mixture of DPPC, DOPC, and Cholesterol simulated by [Smith et al.](https://www.biorxiv.org/content/10.1101/2021.05.24.445501v3).\n",
    "\n",
    "The class `lipyphilic.lib.lateral_diffusion.MSD` can be used to calculate the two-dimensional mean squared displacent (MSD) of lipids in a bilayer. The [Fast Correlation Algorithm](https://www.sciencedirect.com/science/article/pii/001046559500048K), implemented in [tidynamics](http://lab.pdebuyl.be/tidynamics), is used to calculate the MSD of each lipid. From the MSD, we will also calculate the lateral diffusion coefficient of each lipid species.\n"
   ]
  },
  {
   "cell_type": "code",
   "execution_count": 1,
   "metadata": {},
   "outputs": [],
   "source": [
    "import numpy as np\n",
    "import matplotlib.pyplot as plt\n",
    "\n",
    "import MDAnalysis as mda\n",
    "from lipyphilic.transformations import nojump\n",
    "from lipyphilic.lib.lateral_diffusion import MSD\n"
   ]
  },
  {
   "cell_type": "markdown",
   "metadata": {},
   "source": [
    "## Load the topology and trajectory using MDAnalysis"
   ]
  },
  {
   "cell_type": "code",
   "execution_count": 2,
   "metadata": {},
   "outputs": [],
   "source": [
    "u = mda.Universe(\"../datafiles/dppc-dopc-chol.tpr\", \"../datafiles/dppc-dopc-chol.xtc\")"
   ]
  },
  {
   "cell_type": "markdown",
   "metadata": {},
   "source": [
    "## Apply \"nojump\" unwrapping to atomic coordinates\n",
    "Before using `lipyphilic.lib.lateral_diffusion.MSD`, we **must** ensure that the coordinates have been unwrapped such that no atom is wrapped back into the unit cell after crossing a periodic boundary.\n",
    "\n",
    "We will use **lipyphilic**'s [on-the-fly](https://www.mdanalysis.org/2020/03/09/on-the-fly-transformations/) nojump transformation to perform this unwrapping."
   ]
  },
  {
   "cell_type": "markdown",
   "metadata": {},
   "source": [
    "We must first decide which atoms we would like to be unwrapped.\n",
    "\n",
    "We will select the 'GL1', 'GL2', and 'ROH' beads, as we will later use these beads for calculating the diffusion coefficient of the lipids.\n",
    "\n"
   ]
  },
  {
   "cell_type": "code",
   "execution_count": 3,
   "metadata": {},
   "outputs": [],
   "source": [
    "ag = u.select_atoms(\"name GL1 GL2 ROH\")"
   ]
  },
  {
   "cell_type": "markdown",
   "metadata": {},
   "source": [
    "We then add the no jump transformation to our universe, specifying we would like the $x$ and $y$ coordinates unwrapped whilst leaving the $z$ coordinates unchanged:"
   ]
  },
  {
   "cell_type": "code",
   "execution_count": 4,
   "metadata": {},
   "outputs": [
    {
     "data": {
      "application/vnd.jupyter.widget-view+json": {
       "model_id": "f5d4b039de974011942c75817703dbd2",
       "version_major": 2,
       "version_minor": 0
      },
      "text/plain": [
       "Calculating nojump translation vectors:   0%|          | 0/50 [00:00<?, ?it/s]"
      ]
     },
     "metadata": {},
     "output_type": "display_data"
    }
   ],
   "source": [
    "u.trajectory.add_transformations(\n",
    "    nojump(\n",
    "        ag=ag,\n",
    "        nojump_x=True,\n",
    "        nojump_y=True,\n",
    "        nojump_z=False)\n",
    ")\n"
   ]
  },
  {
   "cell_type": "markdown",
   "metadata": {},
   "source": [
    "Upon adding this transformation to our trajectory, **lipyphilic** will determine the frames at which each atom crosses a boundary, keeping a record of the net movement of each atom across each boundary. In this way, the translation required to move an atom from its wrapped to unwrapped coordainte is calculated for each frame.\n",
    "\n",
    "Once the translation vectors are known, every time a new frame is loaded into memory by `MDAnalysis` (such as when we iterate over the trajectory) the transformation is applied to unwrap the coordinates.\n",
    "\n",
    "The are **two benefits** to using this transformation rather than, for example, creating an unwrapped trajectory with GROMACS:\n",
    "\n",
    "- there is no need to create a second trajectory file - the coordinates are modified in place as each frame is loaded into memory\n",
    "\n",
    "- the unwrapping scheme employed here accounts for fluctuations in box size in NPT simulations. Failing to properly account for these fluctuations can lead to overestimations of the diffusion coefficient.\n",
    "\n",
    "### See also\n",
    "\n",
    "See the [pre-print describing lipyphilic](https://www.biorxiv.org/content/10.1101/2021.05.04.442445v1) for further information on the unwrapping algorithm, and see [von Bülow et al.](https://aip.scitation.org/doi/full/10.1063/5.0008316) for further discussion on pitfalls that arise when box size fluctuations are not accounted for when unwrapping trajectory coordinates.\n"
   ]
  },
  {
   "cell_type": "markdown",
   "metadata": {},
   "source": [
    "## Calculate the mean-squared displacement\n",
    "\n",
    "The lateral mean-square displacement of a lipid is calculated as:\n",
    "$$\n",
    "\\Bigg\\langle \\frac{1}{N} \\sum_{i=1}^{N} \\left  | r_i(t_0 + \\Delta t) - r_i(t_0) \\right |^2 \\displaystyle \\Bigg\\rangle_{t_0}\n",
    "$$\n",
    "\n",
    "where $N$ is the number of lipids, $r_i(t0)$ is the center of mass in $xy$ of lipids $i$ at a time origin $t_0$, $r_i(t0 + \\Delta t)$ is the same lipid's center of mass at a lagtime $\\Delta t$. The sum is over all lipids, and the angular brackets denote an average over all time origins, $t_0$.\n",
    "\n",
    "The Fast Correlation Algorithm will use each frame (except the last) as a time origin. That is, if we have 10 frame, there will be 9 different time origins. Multiple time origins are used in order to improve statistics. \n",
    "\n",
    "We are now ready to use the class `lipyphilic.lib.lateral_diffusion.MSD` to calculate the MSD of each lipid:\n"
   ]
  },
  {
   "cell_type": "code",
   "execution_count": 5,
   "metadata": {},
   "outputs": [],
   "source": [
    "msd = MSD(\n",
    "    universe=u,\n",
    "    lipid_sel=\"name GL1 GL2 ROH\",\n",
    "    com_removal_sel=\"name GL1 GL2 ROH\"\n",
    ")\n"
   ]
  },
  {
   "cell_type": "markdown",
   "metadata": {},
   "source": [
    "Here, our selection 'name GL1 GL2 ROH' specifies that the MSD of lipids will be calculated using these atoms. Specifically:\n",
    "\n",
    "- the MSD of each phosphoslipid will be calculated using the center of mass of it GL1 and GL2 beads (which corrspond to the glycerol backbone)\n",
    "- the MSD of each cholesterol will be calculated using position of its ROH bead (which corresponds to the hydroxyl headgroup)\n",
    "\n",
    "The `com_removal_sel` specifies that the center of mass motion of all 'GL1', 'GL2', and 'ROH' beads should be subtracted from the motion of each lipid. This is useful to remove any drift of your bilayer in the $xy$ plane.\n"
   ]
  },
  {
   "cell_type": "markdown",
   "metadata": {},
   "source": [
    "We then select which frames of the trajectory to analyse (`None` will use every frame) and choose to display a progress bar (`verbose=True`)::\n",
    "  "
   ]
  },
  {
   "cell_type": "code",
   "execution_count": 6,
   "metadata": {},
   "outputs": [
    {
     "data": {
      "application/vnd.jupyter.widget-view+json": {
       "model_id": "20ad3def830c49caada3379cc35162b7",
       "version_major": 2,
       "version_minor": 0
      },
      "text/plain": [
       "  0%|          | 0/51 [00:00<?, ?it/s]"
      ]
     },
     "metadata": {},
     "output_type": "display_data"
    },
    {
     "data": {
      "text/plain": [
       "<lipyphilic.lib.lateral_diffusion.MSD at 0x7f78495ca5b0>"
      ]
     },
     "execution_count": 6,
     "metadata": {},
     "output_type": "execute_result"
    }
   ],
   "source": [
    "msd.run(\n",
    "    start=None,\n",
    "    stop=None,\n",
    "    step=None,\n",
    "    verbose=True\n",
    ")\n",
    " "
   ]
  },
  {
   "cell_type": "markdown",
   "metadata": {},
   "source": [
    "## Accessing the results"
   ]
  },
  {
   "cell_type": "markdown",
   "metadata": {},
   "source": [
    "The MSD of each lipid is stored in in the `msd.msd` attribute as a two-dimensional NumPy array of shape ($N_{\\rm lipids}$, $N_{\\rm frames}$). Each row corresponds to an individual lipid and each column to a different lagtime.\n",
    "\n",
    "There are 12000 rows and 51 columns - one row per lipid and one column per frame:"
   ]
  },
  {
   "cell_type": "code",
   "execution_count": 7,
   "metadata": {},
   "outputs": [
    {
     "data": {
      "text/plain": [
       "(12000, 51)"
      ]
     },
     "execution_count": 7,
     "metadata": {},
     "output_type": "execute_result"
    }
   ],
   "source": [
    "msd.msd.shape"
   ]
  },
  {
   "cell_type": "markdown",
   "metadata": {},
   "source": [
    "At the first frame, the MSD of every lipid is equal to zero:"
   ]
  },
  {
   "cell_type": "code",
   "execution_count": 8,
   "metadata": {},
   "outputs": [
    {
     "data": {
      "text/plain": [
       "True"
      ]
     },
     "execution_count": 8,
     "metadata": {},
     "output_type": "execute_result"
    }
   ],
   "source": [
    "all(msd.msd.T[0] == 0)"
   ]
  },
  {
   "cell_type": "markdown",
   "metadata": {},
   "source": [
    "Now we have the MSD of each lipid,we can calculate the lateral diffusion coefficient of each species."
   ]
  },
  {
   "cell_type": "markdown",
   "metadata": {},
   "source": [
    "# Calculating the diffusion coefficient\n",
    "\n",
    "The lateral diffusion is calculated as:\n",
    "\n",
    "$$\n",
    "D_{xy} = \\frac{1}{4} \\lim_{t\\to\\infty} \\frac{d}{dt} \\rm{MSD}_{xy}\n",
    "$$\n",
    "\n",
    "where $\\rm{MSD}_{xy}$ is given by a the slope of a linear fit to our MSD curve.\n"
   ]
  },
  {
   "cell_type": "markdown",
   "metadata": {},
   "source": [
    "## Plotting the MSD curve for each species"
   ]
  },
  {
   "cell_type": "code",
   "execution_count": 9,
   "metadata": {},
   "outputs": [],
   "source": [
    "# create a residue group that can be used for filter the MSD results\n",
    "membrane = u.select_atoms(\"name GL1 GL2 ROH\").residues\n"
   ]
  },
  {
   "cell_type": "code",
   "execution_count": 10,
   "metadata": {},
   "outputs": [
    {
     "data": {
      "text/plain": [
       "<matplotlib.legend.Legend at 0x7f78495110d0>"
      ]
     },
     "execution_count": 10,
     "metadata": {},
     "output_type": "execute_result"
    },
    {
     "data": {
      "image/png": "[encoded data removed]",
      "text/plain": [
       "<Figure size 432x288 with 1 Axes>"
      ]
     },
     "metadata": {
      "needs_background": "light"
     },
     "output_type": "display_data"
    }
   ],
   "source": [
    "for species in [\"DPPC\", \"DOPC\", \"CHOL\"]:\n",
    "    \n",
    "    # create a boolean mask for filterin out the current species\n",
    "    species_mask = (membrane.residues.resnames == species)\n",
    "    \n",
    "    # select the msd of the current species\n",
    "    species_msd = msd.msd[species_mask]  # this contains the msd of each lipid molecule of the relevant species\n",
    "    \n",
    "    # get the mean MSD for the species\n",
    "    mean_species_msd = np.mean(species_msd, axis=0)\n",
    "    \n",
    "    # Plot the MSD against lagtime\n",
    "    plt.loglog(\n",
    "        msd.lagtimes,\n",
    "        mean_species_msd,\n",
    "        label=species\n",
    "    )\n",
    "\n",
    "plt.xlabel(\"Lagtime (ns)\", fontsize=14)\n",
    "plt.ylabel(r\"MSD$_{xy}\\ \\rm{(nm^2)}$\", fontsize=14)\n",
    "\n",
    "plt.legend()\n"
   ]
  },
  {
   "cell_type": "markdown",
   "metadata": {},
   "source": [
    "### Note\n",
    "\n",
    "Typically, an MSD curve would have two regimes - a subdiffuse regime at small lagtimes (< 10s ns) and a diffusive regime at larger lagtimes (> 10s ns). As we are using a trajectory with 5 ns intervals between frames, we do not capture the subdiffusive regime.\n",
    "\n"
   ]
  },
  {
   "cell_type": "markdown",
   "metadata": {},
   "source": [
    "## Calculate the diffusion coefficient all lipids\n",
    "\n",
    "`MSD` has a helper function called `diffusion_coefficient` that we can use to calculate the lateral diffusion coefficient of all selected lipids:\n"
   ]
  },
  {
   "cell_type": "code",
   "execution_count": 11,
   "metadata": {},
   "outputs": [],
   "source": [
    "d, sem  = msd.diffusion_coefficient()"
   ]
  },
  {
   "cell_type": "markdown",
   "metadata": {},
   "source": [
    "This function calculates a diffusion coefficient for each individual lipid, and return the mean and standard error of the distribution of coefficients.\n"
   ]
  },
  {
   "cell_type": "code",
   "execution_count": 12,
   "metadata": {},
   "outputs": [
    {
     "name": "stdout",
     "output_type": "stream",
     "text": [
      "mean: 4.8e-07, sem: 1.1e-08\n"
     ]
    }
   ],
   "source": [
    "print(f\"mean: {d:.2}, sem: {sem:.2}\")"
   ]
  },
  {
   "cell_type": "markdown",
   "metadata": {},
   "source": [
    "## Specifiy the region of the MSD curve to use for calculating the diffusion coefficient"
   ]
  },
  {
   "cell_type": "markdown",
   "metadata": {},
   "source": [
    "By default, the diffusion coefficient will be calculated by fitting a straight line to the central part of the MSD curve, ignoring the smallest largest lagtimes (specifically, lagtimes from the 20th to 80th percentile are used.)\n",
    "\n",
    "Alternatively, we can specificy the period we would like to fit the curve to using the `start_fit` and `stop_fit` keywords:\n"
   ]
  },
  {
   "cell_type": "code",
   "execution_count": 13,
   "metadata": {},
   "outputs": [],
   "source": [
    "d, sem  = msd.diffusion_coefficient(\n",
    "    start_fit=100,  # start fitting from a lagtime of 100 ns\n",
    "    stop_fit=200    # stop fitting from a lagtime of 200 ns\n",
    ")\n"
   ]
  },
  {
   "cell_type": "markdown",
   "metadata": {},
   "source": [
    "## Calculate the diffusion coefficient of each species\n",
    "\n",
    "We can calculate the diffusion for each lipid species by passing an atom selection to the `lipid_sel` keyword of `diffusion_coefficient`:\n"
   ]
  },
  {
   "cell_type": "code",
   "execution_count": 14,
   "metadata": {},
   "outputs": [
    {
     "name": "stdout",
     "output_type": "stream",
     "text": [
      "species: DPPC, mean: 4.1e-07, sem: 1.8e-08\n",
      "species: DOPC, mean: 5.9e-07, sem: 2.3e-08\n",
      "species: CHOL, mean: 4e-07, sem: 2e-08\n"
     ]
    }
   ],
   "source": [
    "for species in [\"DPPC\", \"DOPC\", \"CHOL\"]:\n",
    "    \n",
    "    d, sem = msd.diffusion_coefficient(\n",
    "        start_fit=100,\n",
    "        stop_fit=200,\n",
    "        lipid_sel=f\"resname {species}\"\n",
    "    )\n",
    "    \n",
    "    print(f\"species: {species}, mean: {d:.2}, sem: {sem:.2}\")\n"
   ]
  },
  {
   "cell_type": "markdown",
   "metadata": {},
   "source": [
    "We see that DOPC has the largest diffusion coefficient of the three species.\n",
    "\n"
   ]
  },
  {
   "cell_type": "code",
   "execution_count": null,
   "metadata": {},
   "outputs": [],
   "source": []
  }
 ],
 "metadata": {
  "kernelspec": {
   "display_name": "Python 3 (ipykernel)",
   "language": "python",
   "name": "python3"
  },
  "language_info": {
   "codemirror_mode": {
    "name": "ipython",
    "version": 3
   },
   "file_extension": ".py",
   "mimetype": "text/x-python",
   "name": "python",
   "nbconvert_exporter": "python",
   "pygments_lexer": "ipython3",
   "version": "3.10.6"
  },
  "widgets": {
   "application/vnd.jupyter.widget-state+json": {
    "state": {},
    "version_major": 2,
    "version_minor": 0
   }
  }
 },
 "nbformat": 4,
 "nbformat_minor": 4
}
